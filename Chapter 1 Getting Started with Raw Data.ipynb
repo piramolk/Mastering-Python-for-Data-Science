{
 "cells": [
  {
   "cell_type": "markdown",
   "metadata": {},
   "source": [
    "## Parsing of data\n",
    "\n",
    "The first step to analysis is to parse raw data, which involves the following steps"
   ]
  },
  {
   "cell_type": "markdown",
   "metadata": {},
   "source": [
    "1) Extracting data from the source\n",
    "   - Which can come from many sources (excel, csv, json, databases)\n",
    "\n",
    "2) Cleaning the data\n",
    "   - Once a sanity check has been done, we need to clean the data \n",
    "     appropriately so that it can be utilised for analysis\n",
    "   - e.g. missing data/ values"
   ]
  },
  {
   "cell_type": "markdown",
   "metadata": {},
   "source": [
    "## The world of arrays with Numpy"
   ]
  },
  {
   "cell_type": "markdown",
   "metadata": {},
   "source": [
    "### What is Numpy?\n",
    "- a python package that was created for scientific computing\n",
    "- it helps handle large multidimensional arrays and matrices\n",
    "- a numpy array requires much less memory to store the\n",
    "    same aount of data compared to a python list\n",
    "    - this is good because it helps reading/writing from the array in a faster manner"
   ]
  },
  {
   "cell_type": "markdown",
   "metadata": {},
   "source": [
    "### Creating an array"
   ]
  },
  {
   "cell_type": "code",
   "execution_count": 3,
   "metadata": {},
   "outputs": [],
   "source": [
    "import numpy as np\n",
    "n_array = np.array([[0,1,2,3], [4,5,6,7],[8,9,10,11]])"
   ]
  },
  {
   "cell_type": "code",
   "execution_count": 4,
   "metadata": {},
   "outputs": [
    {
     "data": {
      "text/plain": [
       "array([[ 0,  1,  2,  3],\n",
       "       [ 4,  5,  6,  7],\n",
       "       [ 8,  9, 10, 11]])"
      ]
     },
     "execution_count": 4,
     "metadata": {},
     "output_type": "execute_result"
    }
   ],
   "source": [
    "n_array"
   ]
  },
  {
   "cell_type": "markdown",
   "metadata": {},
   "source": [
    "##### Let's investigate the attributes of this numpy array object"
   ]
  },
  {
   "cell_type": "markdown",
   "metadata": {},
   "source": [
    "ndim:\n",
    "    This gives the number of dimensions of the array"
   ]
  },
  {
   "cell_type": "code",
   "execution_count": 5,
   "metadata": {},
   "outputs": [
    {
     "data": {
      "text/plain": [
       "2"
      ]
     },
     "execution_count": 5,
     "metadata": {},
     "output_type": "execute_result"
    }
   ],
   "source": [
    "n_array.ndim"
   ]
  },
  {
   "cell_type": "markdown",
   "metadata": {},
   "source": [
    "shape: this gives the size of each dimension of the array"
   ]
  },
  {
   "cell_type": "code",
   "execution_count": 6,
   "metadata": {},
   "outputs": [
    {
     "data": {
      "text/plain": [
       "(3, 4)"
      ]
     },
     "execution_count": 6,
     "metadata": {},
     "output_type": "execute_result"
    }
   ],
   "source": [
    "n_array.shape   #(row,column)"
   ]
  },
  {
   "cell_type": "markdown",
   "metadata": {},
   "source": [
    "size: returns the number of elements"
   ]
  },
  {
   "cell_type": "code",
   "execution_count": 8,
   "metadata": {},
   "outputs": [
    {
     "data": {
      "text/plain": [
       "12"
      ]
     },
     "execution_count": 8,
     "metadata": {},
     "output_type": "execute_result"
    }
   ],
   "source": [
    "n_array.size"
   ]
  },
  {
   "cell_type": "markdown",
   "metadata": {},
   "source": [
    "dtype: gives the datatype of the elements in the array"
   ]
  },
  {
   "cell_type": "code",
   "execution_count": 9,
   "metadata": {},
   "outputs": [
    {
     "data": {
      "text/plain": [
       "'int64'"
      ]
     },
     "execution_count": 9,
     "metadata": {},
     "output_type": "execute_result"
    }
   ],
   "source": [
    "n_array.dtype.name"
   ]
  },
  {
   "cell_type": "markdown",
   "metadata": {},
   "source": [
    "## Mathematical operations"
   ]
  },
  {
   "cell_type": "markdown",
   "metadata": {},
   "source": [
    "   ### Array subtraction"
   ]
  },
  {
   "cell_type": "markdown",
   "metadata": {},
   "source": [
    "this substracts the a array from the b array to get the resultant c array. The subtraction is elementwise."
   ]
  },
  {
   "cell_type": "code",
   "execution_count": 11,
   "metadata": {},
   "outputs": [],
   "source": [
    "a = np.array([11,12,13,14])\n",
    "b = np.array([1,2,3,4])\n",
    "c = a-b"
   ]
  },
  {
   "cell_type": "code",
   "execution_count": 12,
   "metadata": {},
   "outputs": [
    {
     "data": {
      "text/plain": [
       "array([10, 10, 10, 10])"
      ]
     },
     "execution_count": 12,
     "metadata": {},
     "output_type": "execute_result"
    }
   ],
   "source": [
    "c"
   ]
  },
  {
   "cell_type": "markdown",
   "metadata": {},
   "source": [
    "### Squaring an array"
   ]
  },
  {
   "cell_type": "code",
   "execution_count": 14,
   "metadata": {},
   "outputs": [
    {
     "data": {
      "text/plain": [
       "array([ 1,  4,  9, 16])"
      ]
     },
     "execution_count": 14,
     "metadata": {},
     "output_type": "execute_result"
    }
   ],
   "source": [
    "# squares it elemenwise\n",
    "b**2"
   ]
  },
  {
   "cell_type": "code",
   "execution_count": 15,
   "metadata": {},
   "outputs": [
    {
     "data": {
      "text/plain": [
       "array([ 0.54030231, -0.41614684, -0.9899925 , -0.65364362])"
      ]
     },
     "execution_count": 15,
     "metadata": {},
     "output_type": "execute_result"
    }
   ],
   "source": [
    "### trigonometric function performed on the array\n",
    "\n",
    "np.cos(b)"
   ]
  },
  {
   "cell_type": "markdown",
   "metadata": {},
   "source": [
    "### Conditional operations"
   ]
  },
  {
   "cell_type": "markdown",
   "metadata": {},
   "source": [
    "conditional operation is applied to each of the elements of the array to generate respective bool vals"
   ]
  },
  {
   "cell_type": "code",
   "execution_count": 16,
   "metadata": {},
   "outputs": [
    {
     "data": {
      "text/plain": [
       "array([ True, False, False, False])"
      ]
     },
     "execution_count": 16,
     "metadata": {},
     "output_type": "execute_result"
    }
   ],
   "source": [
    "b<2"
   ]
  },
  {
   "cell_type": "code",
   "execution_count": 17,
   "metadata": {},
   "outputs": [
    {
     "data": {
      "text/plain": [
       "array([1, 2, 3, 4])"
      ]
     },
     "execution_count": 17,
     "metadata": {},
     "output_type": "execute_result"
    }
   ],
   "source": [
    "b"
   ]
  },
  {
   "cell_type": "markdown",
   "metadata": {},
   "source": [
    "### Matrix multiplication "
   ]
  },
  {
   "cell_type": "markdown",
   "metadata": {},
   "source": [
    "Element by element multiplication"
   ]
  },
  {
   "cell_type": "code",
   "execution_count": 18,
   "metadata": {},
   "outputs": [
    {
     "data": {
      "text/plain": [
       "array([[2, 0],\n",
       "       [0, 4]])"
      ]
     },
     "execution_count": 18,
     "metadata": {},
     "output_type": "execute_result"
    }
   ],
   "source": [
    "A1 = np.array([[1,1],[0,1]])\n",
    "A2 = np.array([[2,0],[3,4]])\n",
    "A1*A2"
   ]
  },
  {
   "cell_type": "markdown",
   "metadata": {},
   "source": [
    "The dot product can be performed below"
   ]
  },
  {
   "cell_type": "code",
   "execution_count": 19,
   "metadata": {},
   "outputs": [
    {
     "data": {
      "text/plain": [
       "array([[5, 4],\n",
       "       [3, 4]])"
      ]
     },
     "execution_count": 19,
     "metadata": {},
     "output_type": "execute_result"
    }
   ],
   "source": [
    "np.dot(A1,A2)"
   ]
  },
  {
   "cell_type": "markdown",
   "metadata": {},
   "source": [
    "### Indexing and slicing"
   ]
  },
  {
   "cell_type": "markdown",
   "metadata": {},
   "source": [
    "If you want to select a particular element of an array, it can be achieved using indexes:"
   ]
  },
  {
   "cell_type": "code",
   "execution_count": 21,
   "metadata": {},
   "outputs": [
    {
     "data": {
      "text/plain": [
       "array([[ 0,  1,  2,  3],\n",
       "       [ 4,  5,  6,  7],\n",
       "       [ 8,  9, 10, 11]])"
      ]
     },
     "execution_count": 21,
     "metadata": {},
     "output_type": "execute_result"
    }
   ],
   "source": [
    "n_array"
   ]
  },
  {
   "cell_type": "code",
   "execution_count": 20,
   "metadata": {},
   "outputs": [
    {
     "data": {
      "text/plain": [
       "1"
      ]
     },
     "execution_count": 20,
     "metadata": {},
     "output_type": "execute_result"
    }
   ],
   "source": [
    "n_array[0,1]  #0: selects first array, 1: selects the 2nd val in that array (coz 1st val is index 0)"
   ]
  },
  {
   "cell_type": "code",
   "execution_count": 22,
   "metadata": {},
   "outputs": [
    {
     "data": {
      "text/plain": [
       "0"
      ]
     },
     "execution_count": 22,
     "metadata": {},
     "output_type": "execute_result"
    }
   ],
   "source": [
    "n_array[0,0]"
   ]
  },
  {
   "cell_type": "code",
   "execution_count": 23,
   "metadata": {},
   "outputs": [
    {
     "data": {
      "text/plain": [
       "4"
      ]
     },
     "execution_count": 23,
     "metadata": {},
     "output_type": "execute_result"
    }
   ],
   "source": [
    "n_array[1,0]"
   ]
  },
  {
   "cell_type": "markdown",
   "metadata": {},
   "source": [
    "If a range of values has to be selected on a row, then we can use the following\n",
    "command:"
   ]
  },
  {
   "cell_type": "code",
   "execution_count": 24,
   "metadata": {},
   "outputs": [
    {
     "data": {
      "text/plain": [
       "array([0, 1, 2])"
      ]
     },
     "execution_count": 24,
     "metadata": {},
     "output_type": "execute_result"
    }
   ],
   "source": [
    "n_array[0,0:3]   #The 0:3 value selects the first three values of the first row."
   ]
  },
  {
   "cell_type": "markdown",
   "metadata": {},
   "source": [
    "The whole row of values can be selected with the following command:"
   ]
  },
  {
   "cell_type": "code",
   "execution_count": 25,
   "metadata": {},
   "outputs": [
    {
     "data": {
      "text/plain": [
       "array([0, 1, 2, 3])"
      ]
     },
     "execution_count": 25,
     "metadata": {},
     "output_type": "execute_result"
    }
   ],
   "source": [
    "n_array[0,:]"
   ]
  },
  {
   "cell_type": "markdown",
   "metadata": {},
   "source": [
    "Using the following command, an entire column of values need to be selected:"
   ]
  },
  {
   "cell_type": "code",
   "execution_count": 26,
   "metadata": {},
   "outputs": [
    {
     "data": {
      "text/plain": [
       "array([1, 5, 9])"
      ]
     },
     "execution_count": 26,
     "metadata": {},
     "output_type": "execute_result"
    }
   ],
   "source": [
    "n_array[:,1]"
   ]
  },
  {
   "cell_type": "code",
   "execution_count": 27,
   "metadata": {},
   "outputs": [
    {
     "data": {
      "text/plain": [
       "array([0, 4, 8])"
      ]
     },
     "execution_count": 27,
     "metadata": {},
     "output_type": "execute_result"
    }
   ],
   "source": [
    "n_array[:,0]"
   ]
  },
  {
   "cell_type": "markdown",
   "metadata": {},
   "source": [
    "### Shape manipulation"
   ]
  },
  {
   "cell_type": "markdown",
   "metadata": {},
   "source": [
    "The following command flattens the array:"
   ]
  },
  {
   "cell_type": "code",
   "execution_count": 28,
   "metadata": {},
   "outputs": [
    {
     "data": {
      "text/plain": [
       "array([ 0,  1,  2,  3,  4,  5,  6,  7,  8,  9, 10, 11])"
      ]
     },
     "execution_count": 28,
     "metadata": {},
     "output_type": "execute_result"
    }
   ],
   "source": [
    "n_array.ravel()"
   ]
  },
  {
   "cell_type": "markdown",
   "metadata": {},
   "source": [
    "The following command reshapes the array in to a six rows and two columns format.\n",
    "Also, note that when reshaping, the new shape should have the same number of\n",
    "elements as the previous one"
   ]
  },
  {
   "cell_type": "code",
   "execution_count": 29,
   "metadata": {},
   "outputs": [],
   "source": [
    "n_array.shape = (6,2)"
   ]
  },
  {
   "cell_type": "code",
   "execution_count": 30,
   "metadata": {},
   "outputs": [
    {
     "data": {
      "text/plain": [
       "array([[ 0,  1],\n",
       "       [ 2,  3],\n",
       "       [ 4,  5],\n",
       "       [ 6,  7],\n",
       "       [ 8,  9],\n",
       "       [10, 11]])"
      ]
     },
     "execution_count": 30,
     "metadata": {},
     "output_type": "execute_result"
    }
   ],
   "source": [
    "n_array"
   ]
  },
  {
   "cell_type": "markdown",
   "metadata": {},
   "source": [
    "to transpose"
   ]
  },
  {
   "cell_type": "code",
   "execution_count": 31,
   "metadata": {},
   "outputs": [
    {
     "data": {
      "text/plain": [
       "array([[ 0,  2,  4,  6,  8, 10],\n",
       "       [ 1,  3,  5,  7,  9, 11]])"
      ]
     },
     "execution_count": 31,
     "metadata": {},
     "output_type": "execute_result"
    }
   ],
   "source": [
    "n_array.transpose()"
   ]
  },
  {
   "cell_type": "markdown",
   "metadata": {},
   "source": [
    "## Empowering data analysis with pandas"
   ]
  },
  {
   "cell_type": "markdown",
   "metadata": {},
   "source": [
    "Pandas?\n",
    "it's a library that is specially designed for data analysis\n",
    "it has efficient data structures to process data, perform fast joins, and read data from various sources, etc"
   ]
  },
  {
   "cell_type": "markdown",
   "metadata": {},
   "source": [
    "### The data structure of pandas"
   ]
  },
  {
   "cell_type": "markdown",
   "metadata": {},
   "source": [
    "The pandas library essentially has 3 data structures\n",
    "    1. Series\n",
    "    2. DataFrame\n",
    "    3. Panel"
   ]
  },
  {
   "cell_type": "markdown",
   "metadata": {},
   "source": [
    "### Series"
   ]
  },
  {
   "cell_type": "markdown",
   "metadata": {},
   "source": [
    "?: a 1-dimensional array, can hold any kinda data and python objects too"
   ]
  },
  {
   "cell_type": "code",
   "execution_count": 33,
   "metadata": {},
   "outputs": [
    {
     "data": {
      "text/plain": [
       "0   -0.074332\n",
       "1   -0.176873\n",
       "2    1.375655\n",
       "3   -0.136901\n",
       "4    0.274922\n",
       "dtype: float64"
      ]
     },
     "execution_count": 33,
     "metadata": {},
     "output_type": "execute_result"
    }
   ],
   "source": [
    "import pandas as pd\n",
    "pd.Series(np.random.randn(5))"
   ]
  },
  {
   "cell_type": "markdown",
   "metadata": {},
   "source": [
    "random.randn:\n",
    "    - part of NumPy package and generates random numbers\n",
    "\n",
    "Series:\n",
    "    - creates a pandas series that consists of an index (1st col) and 2nd col consists of random val"
   ]
  },
  {
   "cell_type": "code",
   "execution_count": 35,
   "metadata": {},
   "outputs": [
    {
     "data": {
      "text/plain": [
       "a   -0.237296\n",
       "b   -1.547197\n",
       "c   -0.441773\n",
       "d    1.463760\n",
       "e   -1.123030\n",
       "dtype: float64"
      ]
     },
     "execution_count": 35,
     "metadata": {},
     "output_type": "execute_result"
    }
   ],
   "source": [
    "pd.Series(np.random.randn(5), index=['a','b','c','d','e'])"
   ]
  },
  {
   "cell_type": "markdown",
   "metadata": {},
   "source": [
    "A series can be derived from a python dict too:"
   ]
  },
  {
   "cell_type": "code",
   "execution_count": 36,
   "metadata": {},
   "outputs": [
    {
     "data": {
      "text/plain": [
       "A    10\n",
       "B    20\n",
       "C    30\n",
       "dtype: int64"
      ]
     },
     "execution_count": 36,
     "metadata": {},
     "output_type": "execute_result"
    }
   ],
   "source": [
    "d = {'A': 10, 'B': 20, 'C': 30}\n",
    "pd.Series(d)"
   ]
  },
  {
   "cell_type": "markdown",
   "metadata": {},
   "source": [
    "\n",
    "### DataFrame"
   ]
  },
  {
   "cell_type": "markdown",
   "metadata": {},
   "source": [
    "/What is a dataframe?/\n",
    "\n",
    "DataFrame is a 2D data structure with columns that can be of different datatypes. \n",
    "Itcan be seen as a table. \n",
    "\n",
    "A DataFrame can be formed from the following data structures\n",
    "- A NumPy array\n",
    "- Lists\n",
    "- Dicts\n",
    "- Series\n",
    "- A 2D NumPy array"
   ]
  },
  {
   "cell_type": "markdown",
   "metadata": {},
   "source": [
    "A dataframe can be created from a dict of series by calling the following commands:"
   ]
  },
  {
   "cell_type": "code",
   "execution_count": 37,
   "metadata": {},
   "outputs": [
    {
     "data": {
      "text/html": [
       "<div>\n",
       "<style scoped>\n",
       "    .dataframe tbody tr th:only-of-type {\n",
       "        vertical-align: middle;\n",
       "    }\n",
       "\n",
       "    .dataframe tbody tr th {\n",
       "        vertical-align: top;\n",
       "    }\n",
       "\n",
       "    .dataframe thead th {\n",
       "        text-align: right;\n",
       "    }\n",
       "</style>\n",
       "<table border=\"1\" class=\"dataframe\">\n",
       "  <thead>\n",
       "    <tr style=\"text-align: right;\">\n",
       "      <th></th>\n",
       "      <th>c1</th>\n",
       "      <th>c2</th>\n",
       "    </tr>\n",
       "  </thead>\n",
       "  <tbody>\n",
       "    <tr>\n",
       "      <th>0</th>\n",
       "      <td>A</td>\n",
       "      <td>1.0</td>\n",
       "    </tr>\n",
       "    <tr>\n",
       "      <th>1</th>\n",
       "      <td>B</td>\n",
       "      <td>2.0</td>\n",
       "    </tr>\n",
       "    <tr>\n",
       "      <th>2</th>\n",
       "      <td>C</td>\n",
       "      <td>3.0</td>\n",
       "    </tr>\n",
       "    <tr>\n",
       "      <th>3</th>\n",
       "      <td>NaN</td>\n",
       "      <td>4.0</td>\n",
       "    </tr>\n",
       "  </tbody>\n",
       "</table>\n",
       "</div>"
      ],
      "text/plain": [
       "    c1   c2\n",
       "0    A  1.0\n",
       "1    B  2.0\n",
       "2    C  3.0\n",
       "3  NaN  4.0"
      ]
     },
     "execution_count": 37,
     "metadata": {},
     "output_type": "execute_result"
    }
   ],
   "source": [
    "d = {'c1': pd.Series(['A','B','C']), 'c2': pd.Series([1,2.,3.,4.])}\n",
    "df = pd.DataFrame(d)\n",
    "df"
   ]
  },
  {
   "cell_type": "markdown",
   "metadata": {},
   "source": [
    "The DataFrame can be created using a dict of lists too:"
   ]
  },
  {
   "cell_type": "code",
   "execution_count": 40,
   "metadata": {},
   "outputs": [
    {
     "name": "stdout",
     "output_type": "stream",
     "text": [
      "  c1   c2\n",
      "0  A  1.0\n",
      "1  B  2.0\n",
      "2  C  3.0\n",
      "3  D  4.0\n"
     ]
    }
   ],
   "source": [
    "d = {'c1': ['A', 'B', 'C', 'D'], 'c2': [1, 2.0, 3.0, 4.0]}\n",
    "df = pd.DataFrame(d)\n",
    "print(df)"
   ]
  },
  {
   "cell_type": "markdown",
   "metadata": {},
   "source": [
    "### Panel"
   ]
  },
  {
   "cell_type": "markdown",
   "metadata": {},
   "source": [
    "What is a panel?\n",
    "A Panel is a data structure that handles 3D data.\n",
    "\n",
    "The following command is an example of panel data:"
   ]
  },
  {
   "cell_type": "code",
   "execution_count": 41,
   "metadata": {},
   "outputs": [],
   "source": [
    "d = {'Item1': pd.DataFrame(np.random.randn(4,3)), 'Item2': pd.DataFrame(np.random.rand(4,2))}"
   ]
  },
  {
   "cell_type": "code",
   "execution_count": 42,
   "metadata": {},
   "outputs": [
    {
     "name": "stderr",
     "output_type": "stream",
     "text": [
      "/Users/piramol/anaconda3/lib/python3.7/site-packages/IPython/core/interactiveshell.py:3296: FutureWarning: \n",
      "Panel is deprecated and will be removed in a future version.\n",
      "The recommended way to represent these types of 3-dimensional data are with a MultiIndex on a DataFrame, via the Panel.to_frame() method\n",
      "Alternatively, you can use the xarray package http://xarray.pydata.org/en/stable/.\n",
      "Pandas provides a `.to_xarray()` method to help automate this conversion.\n",
      "\n",
      "  exec(code_obj, self.user_global_ns, self.user_ns)\n"
     ]
    },
    {
     "data": {
      "text/plain": [
       "<class 'pandas.core.panel.Panel'>\n",
       "Dimensions: 2 (items) x 4 (major_axis) x 3 (minor_axis)\n",
       "Items axis: Item1 to Item2\n",
       "Major_axis axis: 0 to 3\n",
       "Minor_axis axis: 0 to 2"
      ]
     },
     "execution_count": 42,
     "metadata": {},
     "output_type": "execute_result"
    }
   ],
   "source": [
    "pd.Panel(d)"
   ]
  },
  {
   "cell_type": "markdown",
   "metadata": {},
   "source": [
    "## Inserting and exporting data"
   ]
  },
  {
   "cell_type": "code",
   "execution_count": 49,
   "metadata": {},
   "outputs": [],
   "source": [
    "d = pd.read_csv('Student_Weight_Status_Category_ Reporting_Results__Beginning_2010.csv')"
   ]
  },
  {
   "cell_type": "code",
   "execution_count": 52,
   "metadata": {},
   "outputs": [
    {
     "data": {
      "text/html": [
       "<div>\n",
       "<style scoped>\n",
       "    .dataframe tbody tr th:only-of-type {\n",
       "        vertical-align: middle;\n",
       "    }\n",
       "\n",
       "    .dataframe tbody tr th {\n",
       "        vertical-align: top;\n",
       "    }\n",
       "\n",
       "    .dataframe thead th {\n",
       "        text-align: right;\n",
       "    }\n",
       "</style>\n",
       "<table border=\"1\" class=\"dataframe\">\n",
       "  <thead>\n",
       "    <tr style=\"text-align: right;\">\n",
       "      <th></th>\n",
       "      <th>Column</th>\n",
       "      <th>Description</th>\n",
       "    </tr>\n",
       "  </thead>\n",
       "  <tbody>\n",
       "    <tr>\n",
       "      <th>0</th>\n",
       "      <td>LOCATION CODE</td>\n",
       "      <td>Unique location code</td>\n",
       "    </tr>\n",
       "    <tr>\n",
       "      <th>1</th>\n",
       "      <td>COUNTY</td>\n",
       "      <td>The county the school belongs to</td>\n",
       "    </tr>\n",
       "    <tr>\n",
       "      <th>2</th>\n",
       "      <td>AREA NAME</td>\n",
       "      <td>The district the school belongs to</td>\n",
       "    </tr>\n",
       "    <tr>\n",
       "      <th>3</th>\n",
       "      <td>REGION</td>\n",
       "      <td>The region the school belongs to</td>\n",
       "    </tr>\n",
       "    <tr>\n",
       "      <th>4</th>\n",
       "      <td>SCHOOL YEARS</td>\n",
       "      <td>The school year the data is addressing</td>\n",
       "    </tr>\n",
       "  </tbody>\n",
       "</table>\n",
       "</div>"
      ],
      "text/plain": [
       "         Column                              Description\n",
       "0  LOCATION CODE                    Unique location code\n",
       "1        COUNTY         The county the school belongs to\n",
       "2      AREA NAME      The district the school belongs to\n",
       "3        REGION         The region the school belongs to\n",
       "4  SCHOOL YEARS   The school year the data is addressing"
      ]
     },
     "execution_count": 52,
     "metadata": {},
     "output_type": "execute_result"
    }
   ],
   "source": [
    "d[0:5]"
   ]
  },
  {
   "cell_type": "code",
   "execution_count": 56,
   "metadata": {},
   "outputs": [],
   "source": [
    "import json"
   ]
  },
  {
   "cell_type": "code",
   "execution_count": 58,
   "metadata": {},
   "outputs": [],
   "source": [
    "json_data = open('Student_Weight_Status_Category_ Reporting_Results__Beginning_2010.json')"
   ]
  },
  {
   "cell_type": "markdown",
   "metadata": {},
   "source": [
    "\n",
    "\n",
    "## Data Cleansing"
   ]
  },
  {
   "cell_type": "markdown",
   "metadata": {},
   "source": [
    "### Checking the missing data "
   ]
  },
  {
   "cell_type": "code",
   "execution_count": 65,
   "metadata": {},
   "outputs": [],
   "source": [
    "d = pd.read_csv('Student_Weight_Status_Category_Reporting_Results__Beginning_2010.csv')"
   ]
  },
  {
   "cell_type": "code",
   "execution_count": 67,
   "metadata": {},
   "outputs": [
    {
     "data": {
      "text/plain": [
       "0    STATEWIDE (EXCLUDING NYC)\n",
       "1    STATEWIDE (EXCLUDING NYC)\n",
       "2    STATEWIDE (EXCLUDING NYC)\n",
       "3    STATEWIDE (EXCLUDING NYC)\n",
       "4    STATEWIDE (EXCLUDING NYC)\n",
       "Name: AREA NAME, dtype: object"
      ]
     },
     "execution_count": 67,
     "metadata": {},
     "output_type": "execute_result"
    }
   ],
   "source": [
    "d[0:5]['AREA NAME']"
   ]
  },
  {
   "cell_type": "code",
   "execution_count": 70,
   "metadata": {},
   "outputs": [
    {
     "data": {
      "text/plain": [
       "0        True\n",
       "1        True\n",
       "2        True\n",
       "3        True\n",
       "4        True\n",
       "5        True\n",
       "6        True\n",
       "7        True\n",
       "8        True\n",
       "9        True\n",
       "10       True\n",
       "11       True\n",
       "12       True\n",
       "13       True\n",
       "14       True\n",
       "15       True\n",
       "16       True\n",
       "17       True\n",
       "18       True\n",
       "19       True\n",
       "20       True\n",
       "21       True\n",
       "22       True\n",
       "23       True\n",
       "24       True\n",
       "25       True\n",
       "26       True\n",
       "27       True\n",
       "28       True\n",
       "29       True\n",
       "        ...  \n",
       "8892    False\n",
       "8893    False\n",
       "8894    False\n",
       "8895    False\n",
       "8896    False\n",
       "8897    False\n",
       "8898    False\n",
       "8899    False\n",
       "8900    False\n",
       "8901    False\n",
       "8902    False\n",
       "8903    False\n",
       "8904    False\n",
       "8905    False\n",
       "8906    False\n",
       "8907    False\n",
       "8908    False\n",
       "8909    False\n",
       "8910     True\n",
       "8911     True\n",
       "8912     True\n",
       "8913     True\n",
       "8914     True\n",
       "8915     True\n",
       "8916     True\n",
       "8917     True\n",
       "8918     True\n",
       "8919     True\n",
       "8920     True\n",
       "8921     True\n",
       "Name: Location 1, Length: 8922, dtype: bool"
      ]
     },
     "execution_count": 70,
     "metadata": {},
     "output_type": "execute_result"
    }
   ],
   "source": [
    "d['Location 1'].isnull()"
   ]
  },
  {
   "cell_type": "code",
   "execution_count": 71,
   "metadata": {},
   "outputs": [
    {
     "data": {
      "text/plain": [
       "False    8141\n",
       "True      781\n",
       "Name: Location 1, dtype: int64"
      ]
     },
     "execution_count": 71,
     "metadata": {},
     "output_type": "execute_result"
    }
   ],
   "source": [
    "d['Location 1'].isnull().value_counts()    #if its null, i.e. returns true, its a missing val"
   ]
  },
  {
   "cell_type": "markdown",
   "metadata": {},
   "source": [
    "The preceding command shows that the Location 1 column has 24 instances of\n",
    "missing values. These missing values can be handled by either removing the rows\n",
    "with the missing values or replacing it with some values. To remove the rows,\n",
    "execute the following command:"
   ]
  },
  {
   "cell_type": "code",
   "execution_count": 72,
   "metadata": {},
   "outputs": [],
   "source": [
    "d = d['Location 1'].dropna()"
   ]
  },
  {
   "cell_type": "markdown",
   "metadata": {},
   "source": [
    "To remove all the rows with an instance of missing values, use the following command:"
   ]
  },
  {
   "cell_type": "code",
   "execution_count": 73,
   "metadata": {},
   "outputs": [],
   "source": [
    "d = d.dropna(how='any')"
   ]
  },
  {
   "cell_type": "code",
   "execution_count": null,
   "metadata": {},
   "outputs": [],
   "source": []
  },
  {
   "cell_type": "markdown",
   "metadata": {},
   "source": [
    "## Filling the missing data"
   ]
  },
  {
   "cell_type": "markdown",
   "metadata": {},
   "source": [
    "Let's define some DataFrames to work with:"
   ]
  },
  {
   "cell_type": "code",
   "execution_count": 76,
   "metadata": {},
   "outputs": [],
   "source": [
    "df = pd.DataFrame(np.random.randn(5, 3), index=['a0', 'a10',\n",
    "                    'a20', 'a30', 'a40'],\n",
    "                    columns=['X', 'Y', 'Z'])"
   ]
  },
  {
   "cell_type": "code",
   "execution_count": 77,
   "metadata": {},
   "outputs": [
    {
     "data": {
      "text/html": [
       "<div>\n",
       "<style scoped>\n",
       "    .dataframe tbody tr th:only-of-type {\n",
       "        vertical-align: middle;\n",
       "    }\n",
       "\n",
       "    .dataframe tbody tr th {\n",
       "        vertical-align: top;\n",
       "    }\n",
       "\n",
       "    .dataframe thead th {\n",
       "        text-align: right;\n",
       "    }\n",
       "</style>\n",
       "<table border=\"1\" class=\"dataframe\">\n",
       "  <thead>\n",
       "    <tr style=\"text-align: right;\">\n",
       "      <th></th>\n",
       "      <th>X</th>\n",
       "      <th>Y</th>\n",
       "      <th>Z</th>\n",
       "    </tr>\n",
       "  </thead>\n",
       "  <tbody>\n",
       "    <tr>\n",
       "      <th>a0</th>\n",
       "      <td>0.231152</td>\n",
       "      <td>1.193836</td>\n",
       "      <td>-0.397602</td>\n",
       "    </tr>\n",
       "    <tr>\n",
       "      <th>a10</th>\n",
       "      <td>0.500342</td>\n",
       "      <td>-0.407579</td>\n",
       "      <td>1.158172</td>\n",
       "    </tr>\n",
       "    <tr>\n",
       "      <th>a20</th>\n",
       "      <td>-0.128943</td>\n",
       "      <td>-0.077166</td>\n",
       "      <td>0.929488</td>\n",
       "    </tr>\n",
       "    <tr>\n",
       "      <th>a30</th>\n",
       "      <td>0.719838</td>\n",
       "      <td>-0.306443</td>\n",
       "      <td>0.464645</td>\n",
       "    </tr>\n",
       "    <tr>\n",
       "      <th>a40</th>\n",
       "      <td>0.049931</td>\n",
       "      <td>-0.299181</td>\n",
       "      <td>0.265057</td>\n",
       "    </tr>\n",
       "  </tbody>\n",
       "</table>\n",
       "</div>"
      ],
      "text/plain": [
       "            X         Y         Z\n",
       "a0   0.231152  1.193836 -0.397602\n",
       "a10  0.500342 -0.407579  1.158172\n",
       "a20 -0.128943 -0.077166  0.929488\n",
       "a30  0.719838 -0.306443  0.464645\n",
       "a40  0.049931 -0.299181  0.265057"
      ]
     },
     "execution_count": 77,
     "metadata": {},
     "output_type": "execute_result"
    }
   ],
   "source": [
    "df"
   ]
  },
  {
   "cell_type": "markdown",
   "metadata": {},
   "source": [
    "Now let's add some extra row indexes, which will create null values in our DF"
   ]
  },
  {
   "cell_type": "code",
   "execution_count": 79,
   "metadata": {},
   "outputs": [],
   "source": [
    "df2 = df.reindex(['a0', 'a1', 'a10', 'a11', 'a20', 'a21',\n",
    "                'a30', 'a31', 'a40', 'a41'])"
   ]
  },
  {
   "cell_type": "code",
   "execution_count": 80,
   "metadata": {},
   "outputs": [
    {
     "data": {
      "text/html": [
       "<div>\n",
       "<style scoped>\n",
       "    .dataframe tbody tr th:only-of-type {\n",
       "        vertical-align: middle;\n",
       "    }\n",
       "\n",
       "    .dataframe tbody tr th {\n",
       "        vertical-align: top;\n",
       "    }\n",
       "\n",
       "    .dataframe thead th {\n",
       "        text-align: right;\n",
       "    }\n",
       "</style>\n",
       "<table border=\"1\" class=\"dataframe\">\n",
       "  <thead>\n",
       "    <tr style=\"text-align: right;\">\n",
       "      <th></th>\n",
       "      <th>X</th>\n",
       "      <th>Y</th>\n",
       "      <th>Z</th>\n",
       "    </tr>\n",
       "  </thead>\n",
       "  <tbody>\n",
       "    <tr>\n",
       "      <th>a0</th>\n",
       "      <td>0.231152</td>\n",
       "      <td>1.193836</td>\n",
       "      <td>-0.397602</td>\n",
       "    </tr>\n",
       "    <tr>\n",
       "      <th>a1</th>\n",
       "      <td>NaN</td>\n",
       "      <td>NaN</td>\n",
       "      <td>NaN</td>\n",
       "    </tr>\n",
       "    <tr>\n",
       "      <th>a10</th>\n",
       "      <td>0.500342</td>\n",
       "      <td>-0.407579</td>\n",
       "      <td>1.158172</td>\n",
       "    </tr>\n",
       "    <tr>\n",
       "      <th>a11</th>\n",
       "      <td>NaN</td>\n",
       "      <td>NaN</td>\n",
       "      <td>NaN</td>\n",
       "    </tr>\n",
       "    <tr>\n",
       "      <th>a20</th>\n",
       "      <td>-0.128943</td>\n",
       "      <td>-0.077166</td>\n",
       "      <td>0.929488</td>\n",
       "    </tr>\n",
       "    <tr>\n",
       "      <th>a21</th>\n",
       "      <td>NaN</td>\n",
       "      <td>NaN</td>\n",
       "      <td>NaN</td>\n",
       "    </tr>\n",
       "    <tr>\n",
       "      <th>a30</th>\n",
       "      <td>0.719838</td>\n",
       "      <td>-0.306443</td>\n",
       "      <td>0.464645</td>\n",
       "    </tr>\n",
       "    <tr>\n",
       "      <th>a31</th>\n",
       "      <td>NaN</td>\n",
       "      <td>NaN</td>\n",
       "      <td>NaN</td>\n",
       "    </tr>\n",
       "    <tr>\n",
       "      <th>a40</th>\n",
       "      <td>0.049931</td>\n",
       "      <td>-0.299181</td>\n",
       "      <td>0.265057</td>\n",
       "    </tr>\n",
       "    <tr>\n",
       "      <th>a41</th>\n",
       "      <td>NaN</td>\n",
       "      <td>NaN</td>\n",
       "      <td>NaN</td>\n",
       "    </tr>\n",
       "  </tbody>\n",
       "</table>\n",
       "</div>"
      ],
      "text/plain": [
       "            X         Y         Z\n",
       "a0   0.231152  1.193836 -0.397602\n",
       "a1        NaN       NaN       NaN\n",
       "a10  0.500342 -0.407579  1.158172\n",
       "a11       NaN       NaN       NaN\n",
       "a20 -0.128943 -0.077166  0.929488\n",
       "a21       NaN       NaN       NaN\n",
       "a30  0.719838 -0.306443  0.464645\n",
       "a31       NaN       NaN       NaN\n",
       "a40  0.049931 -0.299181  0.265057\n",
       "a41       NaN       NaN       NaN"
      ]
     },
     "execution_count": 80,
     "metadata": {},
     "output_type": "execute_result"
    }
   ],
   "source": [
    "df2"
   ]
  },
  {
   "cell_type": "markdown",
   "metadata": {},
   "source": [
    "Let's replace the null values with a zero:"
   ]
  },
  {
   "cell_type": "code",
   "execution_count": 81,
   "metadata": {},
   "outputs": [
    {
     "data": {
      "text/html": [
       "<div>\n",
       "<style scoped>\n",
       "    .dataframe tbody tr th:only-of-type {\n",
       "        vertical-align: middle;\n",
       "    }\n",
       "\n",
       "    .dataframe tbody tr th {\n",
       "        vertical-align: top;\n",
       "    }\n",
       "\n",
       "    .dataframe thead th {\n",
       "        text-align: right;\n",
       "    }\n",
       "</style>\n",
       "<table border=\"1\" class=\"dataframe\">\n",
       "  <thead>\n",
       "    <tr style=\"text-align: right;\">\n",
       "      <th></th>\n",
       "      <th>X</th>\n",
       "      <th>Y</th>\n",
       "      <th>Z</th>\n",
       "    </tr>\n",
       "  </thead>\n",
       "  <tbody>\n",
       "    <tr>\n",
       "      <th>a0</th>\n",
       "      <td>0.231152</td>\n",
       "      <td>1.193836</td>\n",
       "      <td>-0.397602</td>\n",
       "    </tr>\n",
       "    <tr>\n",
       "      <th>a1</th>\n",
       "      <td>0.000000</td>\n",
       "      <td>0.000000</td>\n",
       "      <td>0.000000</td>\n",
       "    </tr>\n",
       "    <tr>\n",
       "      <th>a10</th>\n",
       "      <td>0.500342</td>\n",
       "      <td>-0.407579</td>\n",
       "      <td>1.158172</td>\n",
       "    </tr>\n",
       "    <tr>\n",
       "      <th>a11</th>\n",
       "      <td>0.000000</td>\n",
       "      <td>0.000000</td>\n",
       "      <td>0.000000</td>\n",
       "    </tr>\n",
       "    <tr>\n",
       "      <th>a20</th>\n",
       "      <td>-0.128943</td>\n",
       "      <td>-0.077166</td>\n",
       "      <td>0.929488</td>\n",
       "    </tr>\n",
       "    <tr>\n",
       "      <th>a21</th>\n",
       "      <td>0.000000</td>\n",
       "      <td>0.000000</td>\n",
       "      <td>0.000000</td>\n",
       "    </tr>\n",
       "    <tr>\n",
       "      <th>a30</th>\n",
       "      <td>0.719838</td>\n",
       "      <td>-0.306443</td>\n",
       "      <td>0.464645</td>\n",
       "    </tr>\n",
       "    <tr>\n",
       "      <th>a31</th>\n",
       "      <td>0.000000</td>\n",
       "      <td>0.000000</td>\n",
       "      <td>0.000000</td>\n",
       "    </tr>\n",
       "    <tr>\n",
       "      <th>a40</th>\n",
       "      <td>0.049931</td>\n",
       "      <td>-0.299181</td>\n",
       "      <td>0.265057</td>\n",
       "    </tr>\n",
       "    <tr>\n",
       "      <th>a41</th>\n",
       "      <td>0.000000</td>\n",
       "      <td>0.000000</td>\n",
       "      <td>0.000000</td>\n",
       "    </tr>\n",
       "  </tbody>\n",
       "</table>\n",
       "</div>"
      ],
      "text/plain": [
       "            X         Y         Z\n",
       "a0   0.231152  1.193836 -0.397602\n",
       "a1   0.000000  0.000000  0.000000\n",
       "a10  0.500342 -0.407579  1.158172\n",
       "a11  0.000000  0.000000  0.000000\n",
       "a20 -0.128943 -0.077166  0.929488\n",
       "a21  0.000000  0.000000  0.000000\n",
       "a30  0.719838 -0.306443  0.464645\n",
       "a31  0.000000  0.000000  0.000000\n",
       "a40  0.049931 -0.299181  0.265057\n",
       "a41  0.000000  0.000000  0.000000"
      ]
     },
     "execution_count": 81,
     "metadata": {},
     "output_type": "execute_result"
    }
   ],
   "source": [
    "df2.fillna(0)"
   ]
  },
  {
   "cell_type": "markdown",
   "metadata": {},
   "source": [
    "If you want to fill the value with forward propagation, which means that the\n",
    "value previous to the null value in the column will be used to fill the null value,\n",
    "the following command can be used:"
   ]
  },
  {
   "cell_type": "code",
   "execution_count": 82,
   "metadata": {},
   "outputs": [
    {
     "data": {
      "text/html": [
       "<div>\n",
       "<style scoped>\n",
       "    .dataframe tbody tr th:only-of-type {\n",
       "        vertical-align: middle;\n",
       "    }\n",
       "\n",
       "    .dataframe tbody tr th {\n",
       "        vertical-align: top;\n",
       "    }\n",
       "\n",
       "    .dataframe thead th {\n",
       "        text-align: right;\n",
       "    }\n",
       "</style>\n",
       "<table border=\"1\" class=\"dataframe\">\n",
       "  <thead>\n",
       "    <tr style=\"text-align: right;\">\n",
       "      <th></th>\n",
       "      <th>X</th>\n",
       "      <th>Y</th>\n",
       "      <th>Z</th>\n",
       "    </tr>\n",
       "  </thead>\n",
       "  <tbody>\n",
       "    <tr>\n",
       "      <th>a0</th>\n",
       "      <td>0.231152</td>\n",
       "      <td>1.193836</td>\n",
       "      <td>-0.397602</td>\n",
       "    </tr>\n",
       "    <tr>\n",
       "      <th>a1</th>\n",
       "      <td>0.231152</td>\n",
       "      <td>1.193836</td>\n",
       "      <td>-0.397602</td>\n",
       "    </tr>\n",
       "    <tr>\n",
       "      <th>a10</th>\n",
       "      <td>0.500342</td>\n",
       "      <td>-0.407579</td>\n",
       "      <td>1.158172</td>\n",
       "    </tr>\n",
       "    <tr>\n",
       "      <th>a11</th>\n",
       "      <td>0.500342</td>\n",
       "      <td>-0.407579</td>\n",
       "      <td>1.158172</td>\n",
       "    </tr>\n",
       "    <tr>\n",
       "      <th>a20</th>\n",
       "      <td>-0.128943</td>\n",
       "      <td>-0.077166</td>\n",
       "      <td>0.929488</td>\n",
       "    </tr>\n",
       "    <tr>\n",
       "      <th>a21</th>\n",
       "      <td>-0.128943</td>\n",
       "      <td>-0.077166</td>\n",
       "      <td>0.929488</td>\n",
       "    </tr>\n",
       "    <tr>\n",
       "      <th>a30</th>\n",
       "      <td>0.719838</td>\n",
       "      <td>-0.306443</td>\n",
       "      <td>0.464645</td>\n",
       "    </tr>\n",
       "    <tr>\n",
       "      <th>a31</th>\n",
       "      <td>0.719838</td>\n",
       "      <td>-0.306443</td>\n",
       "      <td>0.464645</td>\n",
       "    </tr>\n",
       "    <tr>\n",
       "      <th>a40</th>\n",
       "      <td>0.049931</td>\n",
       "      <td>-0.299181</td>\n",
       "      <td>0.265057</td>\n",
       "    </tr>\n",
       "    <tr>\n",
       "      <th>a41</th>\n",
       "      <td>0.049931</td>\n",
       "      <td>-0.299181</td>\n",
       "      <td>0.265057</td>\n",
       "    </tr>\n",
       "  </tbody>\n",
       "</table>\n",
       "</div>"
      ],
      "text/plain": [
       "            X         Y         Z\n",
       "a0   0.231152  1.193836 -0.397602\n",
       "a1   0.231152  1.193836 -0.397602\n",
       "a10  0.500342 -0.407579  1.158172\n",
       "a11  0.500342 -0.407579  1.158172\n",
       "a20 -0.128943 -0.077166  0.929488\n",
       "a21 -0.128943 -0.077166  0.929488\n",
       "a30  0.719838 -0.306443  0.464645\n",
       "a31  0.719838 -0.306443  0.464645\n",
       "a40  0.049931 -0.299181  0.265057\n",
       "a41  0.049931 -0.299181  0.265057"
      ]
     },
     "execution_count": 82,
     "metadata": {},
     "output_type": "execute_result"
    }
   ],
   "source": [
    "df2.fillna(method='pad')  #filling with forward propagation"
   ]
  },
  {
   "cell_type": "markdown",
   "metadata": {},
   "source": [
    "If you want to fill the null values of the column with the column mean, then the\n",
    "following command can be utilized:"
   ]
  },
  {
   "cell_type": "code",
   "execution_count": 83,
   "metadata": {},
   "outputs": [
    {
     "data": {
      "text/html": [
       "<div>\n",
       "<style scoped>\n",
       "    .dataframe tbody tr th:only-of-type {\n",
       "        vertical-align: middle;\n",
       "    }\n",
       "\n",
       "    .dataframe tbody tr th {\n",
       "        vertical-align: top;\n",
       "    }\n",
       "\n",
       "    .dataframe thead th {\n",
       "        text-align: right;\n",
       "    }\n",
       "</style>\n",
       "<table border=\"1\" class=\"dataframe\">\n",
       "  <thead>\n",
       "    <tr style=\"text-align: right;\">\n",
       "      <th></th>\n",
       "      <th>X</th>\n",
       "      <th>Y</th>\n",
       "      <th>Z</th>\n",
       "    </tr>\n",
       "  </thead>\n",
       "  <tbody>\n",
       "    <tr>\n",
       "      <th>a0</th>\n",
       "      <td>0.231152</td>\n",
       "      <td>1.193836</td>\n",
       "      <td>-0.397602</td>\n",
       "    </tr>\n",
       "    <tr>\n",
       "      <th>a1</th>\n",
       "      <td>0.274464</td>\n",
       "      <td>0.020693</td>\n",
       "      <td>0.483952</td>\n",
       "    </tr>\n",
       "    <tr>\n",
       "      <th>a10</th>\n",
       "      <td>0.500342</td>\n",
       "      <td>-0.407579</td>\n",
       "      <td>1.158172</td>\n",
       "    </tr>\n",
       "    <tr>\n",
       "      <th>a11</th>\n",
       "      <td>0.274464</td>\n",
       "      <td>0.020693</td>\n",
       "      <td>0.483952</td>\n",
       "    </tr>\n",
       "    <tr>\n",
       "      <th>a20</th>\n",
       "      <td>-0.128943</td>\n",
       "      <td>-0.077166</td>\n",
       "      <td>0.929488</td>\n",
       "    </tr>\n",
       "    <tr>\n",
       "      <th>a21</th>\n",
       "      <td>0.274464</td>\n",
       "      <td>0.020693</td>\n",
       "      <td>0.483952</td>\n",
       "    </tr>\n",
       "    <tr>\n",
       "      <th>a30</th>\n",
       "      <td>0.719838</td>\n",
       "      <td>-0.306443</td>\n",
       "      <td>0.464645</td>\n",
       "    </tr>\n",
       "    <tr>\n",
       "      <th>a31</th>\n",
       "      <td>0.274464</td>\n",
       "      <td>0.020693</td>\n",
       "      <td>0.483952</td>\n",
       "    </tr>\n",
       "    <tr>\n",
       "      <th>a40</th>\n",
       "      <td>0.049931</td>\n",
       "      <td>-0.299181</td>\n",
       "      <td>0.265057</td>\n",
       "    </tr>\n",
       "    <tr>\n",
       "      <th>a41</th>\n",
       "      <td>0.274464</td>\n",
       "      <td>0.020693</td>\n",
       "      <td>0.483952</td>\n",
       "    </tr>\n",
       "  </tbody>\n",
       "</table>\n",
       "</div>"
      ],
      "text/plain": [
       "            X         Y         Z\n",
       "a0   0.231152  1.193836 -0.397602\n",
       "a1   0.274464  0.020693  0.483952\n",
       "a10  0.500342 -0.407579  1.158172\n",
       "a11  0.274464  0.020693  0.483952\n",
       "a20 -0.128943 -0.077166  0.929488\n",
       "a21  0.274464  0.020693  0.483952\n",
       "a30  0.719838 -0.306443  0.464645\n",
       "a31  0.274464  0.020693  0.483952\n",
       "a40  0.049931 -0.299181  0.265057\n",
       "a41  0.274464  0.020693  0.483952"
      ]
     },
     "execution_count": 83,
     "metadata": {},
     "output_type": "execute_result"
    }
   ],
   "source": [
    "df2.fillna(df2.mean())"
   ]
  },
  {
   "cell_type": "markdown",
   "metadata": {},
   "source": [
    "### String operations"
   ]
  },
  {
   "cell_type": "markdown",
   "metadata": {},
   "source": [
    "Sometimes, you would want to modify the string field column in your data.\n",
    "The following technique explains some of the string operations:"
   ]
  },
  {
   "cell_type": "markdown",
   "metadata": {},
   "source": [
    "#### Substring: "
   ]
  },
  {
   "cell_type": "markdown",
   "metadata": {},
   "source": [
    "Let's start by choosing the first five rows of the AREA NAME\n",
    "column in the data as our sample data to modify:"
   ]
  },
  {
   "cell_type": "code",
   "execution_count": 84,
   "metadata": {},
   "outputs": [],
   "source": [
    "df = pd.read_csv('Student_Weight_Status_Category_Reporting_Results__Beginning_2010.csv')"
   ]
  },
  {
   "cell_type": "code",
   "execution_count": 86,
   "metadata": {},
   "outputs": [
    {
     "data": {
      "text/plain": [
       "0    STATEWIDE (EXCLUDING NYC)\n",
       "1    STATEWIDE (EXCLUDING NYC)\n",
       "2    STATEWIDE (EXCLUDING NYC)\n",
       "3    STATEWIDE (EXCLUDING NYC)\n",
       "4    STATEWIDE (EXCLUDING NYC)\n",
       "Name: AREA NAME, dtype: object"
      ]
     },
     "execution_count": 86,
     "metadata": {},
     "output_type": "execute_result"
    }
   ],
   "source": [
    "df['AREA NAME'][0:5]"
   ]
  },
  {
   "cell_type": "markdown",
   "metadata": {},
   "source": [
    "In order to extract the first word from the Area Name column, we'll use the\n",
    "extract function as shown in the following command:"
   ]
  },
  {
   "cell_type": "code",
   "execution_count": 87,
   "metadata": {},
   "outputs": [
    {
     "data": {
      "text/html": [
       "<div>\n",
       "<style scoped>\n",
       "    .dataframe tbody tr th:only-of-type {\n",
       "        vertical-align: middle;\n",
       "    }\n",
       "\n",
       "    .dataframe tbody tr th {\n",
       "        vertical-align: top;\n",
       "    }\n",
       "\n",
       "    .dataframe thead th {\n",
       "        text-align: right;\n",
       "    }\n",
       "</style>\n",
       "<table border=\"1\" class=\"dataframe\">\n",
       "  <thead>\n",
       "    <tr style=\"text-align: right;\">\n",
       "      <th></th>\n",
       "      <th>0</th>\n",
       "    </tr>\n",
       "  </thead>\n",
       "  <tbody>\n",
       "    <tr>\n",
       "      <th>0</th>\n",
       "      <td>STATEWIDE</td>\n",
       "    </tr>\n",
       "    <tr>\n",
       "      <th>1</th>\n",
       "      <td>STATEWIDE</td>\n",
       "    </tr>\n",
       "    <tr>\n",
       "      <th>2</th>\n",
       "      <td>STATEWIDE</td>\n",
       "    </tr>\n",
       "    <tr>\n",
       "      <th>3</th>\n",
       "      <td>STATEWIDE</td>\n",
       "    </tr>\n",
       "    <tr>\n",
       "      <th>4</th>\n",
       "      <td>STATEWIDE</td>\n",
       "    </tr>\n",
       "  </tbody>\n",
       "</table>\n",
       "</div>"
      ],
      "text/plain": [
       "           0\n",
       "0  STATEWIDE\n",
       "1  STATEWIDE\n",
       "2  STATEWIDE\n",
       "3  STATEWIDE\n",
       "4  STATEWIDE"
      ]
     },
     "execution_count": 87,
     "metadata": {},
     "output_type": "execute_result"
    }
   ],
   "source": [
    "df['AREA NAME'][0:5].str.extract('(\\w+)')"
   ]
  },
  {
   "cell_type": "markdown",
   "metadata": {},
   "source": [
    "In the preceding command, the str attribute of the series is utilized. The str\n",
    "class contains an extract method, where a regular expression could be fed\n",
    "to extract data, which is very powerful. It is also possible to extract a second\n",
    "word in AREA NAME as a separate column:"
   ]
  },
  {
   "cell_type": "code",
   "execution_count": 88,
   "metadata": {},
   "outputs": [
    {
     "data": {
      "text/html": [
       "<div>\n",
       "<style scoped>\n",
       "    .dataframe tbody tr th:only-of-type {\n",
       "        vertical-align: middle;\n",
       "    }\n",
       "\n",
       "    .dataframe tbody tr th {\n",
       "        vertical-align: top;\n",
       "    }\n",
       "\n",
       "    .dataframe thead th {\n",
       "        text-align: right;\n",
       "    }\n",
       "</style>\n",
       "<table border=\"1\" class=\"dataframe\">\n",
       "  <thead>\n",
       "    <tr style=\"text-align: right;\">\n",
       "      <th></th>\n",
       "      <th>0</th>\n",
       "      <th>1</th>\n",
       "    </tr>\n",
       "  </thead>\n",
       "  <tbody>\n",
       "    <tr>\n",
       "      <th>0</th>\n",
       "      <td>EXCLUDING</td>\n",
       "      <td>NYC</td>\n",
       "    </tr>\n",
       "    <tr>\n",
       "      <th>1</th>\n",
       "      <td>EXCLUDING</td>\n",
       "      <td>NYC</td>\n",
       "    </tr>\n",
       "    <tr>\n",
       "      <th>2</th>\n",
       "      <td>EXCLUDING</td>\n",
       "      <td>NYC</td>\n",
       "    </tr>\n",
       "    <tr>\n",
       "      <th>3</th>\n",
       "      <td>EXCLUDING</td>\n",
       "      <td>NYC</td>\n",
       "    </tr>\n",
       "    <tr>\n",
       "      <th>4</th>\n",
       "      <td>EXCLUDING</td>\n",
       "      <td>NYC</td>\n",
       "    </tr>\n",
       "  </tbody>\n",
       "</table>\n",
       "</div>"
      ],
      "text/plain": [
       "           0    1\n",
       "0  EXCLUDING  NYC\n",
       "1  EXCLUDING  NYC\n",
       "2  EXCLUDING  NYC\n",
       "3  EXCLUDING  NYC\n",
       "4  EXCLUDING  NYC"
      ]
     },
     "execution_count": 88,
     "metadata": {},
     "output_type": "execute_result"
    }
   ],
   "source": [
    "df['AREA NAME'][0:5].str.extract('(\\w+)\\s(\\w+)')"
   ]
  },
  {
   "cell_type": "markdown",
   "metadata": {},
   "source": [
    "To extract data in different columns, the respective regular expression needs\n",
    "to be enclosed in separate parentheses."
   ]
  },
  {
   "cell_type": "markdown",
   "metadata": {},
   "source": [
    "#### Filtering"
   ]
  },
  {
   "cell_type": "markdown",
   "metadata": {},
   "source": [
    "If we want to filter rows with data on ELEMENTARY school, then the\n",
    "following command can be used:"
   ]
  },
  {
   "cell_type": "code",
   "execution_count": 89,
   "metadata": {},
   "outputs": [
    {
     "data": {
      "text/html": [
       "<div>\n",
       "<style scoped>\n",
       "    .dataframe tbody tr th:only-of-type {\n",
       "        vertical-align: middle;\n",
       "    }\n",
       "\n",
       "    .dataframe tbody tr th {\n",
       "        vertical-align: top;\n",
       "    }\n",
       "\n",
       "    .dataframe thead th {\n",
       "        text-align: right;\n",
       "    }\n",
       "</style>\n",
       "<table border=\"1\" class=\"dataframe\">\n",
       "  <thead>\n",
       "    <tr style=\"text-align: right;\">\n",
       "      <th></th>\n",
       "      <th>LOCATION CODE</th>\n",
       "      <th>COUNTY</th>\n",
       "      <th>AREA NAME</th>\n",
       "      <th>REGION</th>\n",
       "      <th>SCHOOL YEARS</th>\n",
       "      <th>NO. OVERWEIGHT</th>\n",
       "      <th>PCT OVERWEIGHT</th>\n",
       "      <th>NO. OBESE</th>\n",
       "      <th>PCT OBESE</th>\n",
       "      <th>NO. OVERWEIGHT OR OBESE</th>\n",
       "      <th>PCT OVERWEIGHT OR OBESE</th>\n",
       "      <th>GRADE LEVEL</th>\n",
       "      <th>AREA TYPE</th>\n",
       "      <th>STREET ADDRESS</th>\n",
       "      <th>CITY</th>\n",
       "      <th>STATE</th>\n",
       "      <th>ZIP CODE</th>\n",
       "      <th>Location 1</th>\n",
       "    </tr>\n",
       "  </thead>\n",
       "  <tbody>\n",
       "    <tr>\n",
       "      <th>1</th>\n",
       "      <td>0</td>\n",
       "      <td>STATEWIDE (EXCLUDING NYC)</td>\n",
       "      <td>STATEWIDE (EXCLUDING NYC)</td>\n",
       "      <td>STATEWIDE (EXCLUDING NYC)</td>\n",
       "      <td>2010-2012</td>\n",
       "      <td>44970.0</td>\n",
       "      <td>15.8</td>\n",
       "      <td>48843.0</td>\n",
       "      <td>17.2</td>\n",
       "      <td>93813.0</td>\n",
       "      <td>33.0</td>\n",
       "      <td>ELEMENTARY</td>\n",
       "      <td>STATEWIDE (EXCLUDING NYC)</td>\n",
       "      <td>NaN</td>\n",
       "      <td>NaN</td>\n",
       "      <td>NaN</td>\n",
       "      <td>NaN</td>\n",
       "      <td>NaN</td>\n",
       "    </tr>\n",
       "    <tr>\n",
       "      <th>4</th>\n",
       "      <td>0</td>\n",
       "      <td>STATEWIDE (EXCLUDING NYC)</td>\n",
       "      <td>STATEWIDE (EXCLUDING NYC)</td>\n",
       "      <td>STATEWIDE (EXCLUDING NYC)</td>\n",
       "      <td>2012-2014</td>\n",
       "      <td>47868.0</td>\n",
       "      <td>16.4</td>\n",
       "      <td>49140.0</td>\n",
       "      <td>16.8</td>\n",
       "      <td>97008.0</td>\n",
       "      <td>33.1</td>\n",
       "      <td>ELEMENTARY</td>\n",
       "      <td>STATEWIDE (EXCLUDING NYC)</td>\n",
       "      <td>NaN</td>\n",
       "      <td>NaN</td>\n",
       "      <td>NaN</td>\n",
       "      <td>NaN</td>\n",
       "      <td>NaN</td>\n",
       "    </tr>\n",
       "    <tr>\n",
       "      <th>7</th>\n",
       "      <td>0</td>\n",
       "      <td>STATEWIDE (EXCLUDING NYC)</td>\n",
       "      <td>STATEWIDE (EXCLUDING NYC)</td>\n",
       "      <td>STATEWIDE (EXCLUDING NYC)</td>\n",
       "      <td>2014-2016</td>\n",
       "      <td>46417.0</td>\n",
       "      <td>15.9</td>\n",
       "      <td>47812.0</td>\n",
       "      <td>16.3</td>\n",
       "      <td>94229.0</td>\n",
       "      <td>32.2</td>\n",
       "      <td>ELEMENTARY</td>\n",
       "      <td>STATEWIDE (EXCLUDING NYC)</td>\n",
       "      <td>NaN</td>\n",
       "      <td>NaN</td>\n",
       "      <td>NaN</td>\n",
       "      <td>NaN</td>\n",
       "      <td>NaN</td>\n",
       "    </tr>\n",
       "    <tr>\n",
       "      <th>10</th>\n",
       "      <td>0</td>\n",
       "      <td>STATEWIDE (EXCLUDING NYC)</td>\n",
       "      <td>STATEWIDE (EXCLUDING NYC)</td>\n",
       "      <td>STATEWIDE (EXCLUDING NYC)</td>\n",
       "      <td>2016-2018</td>\n",
       "      <td>46004.0</td>\n",
       "      <td>15.7</td>\n",
       "      <td>46911.0</td>\n",
       "      <td>16.0</td>\n",
       "      <td>92915.0</td>\n",
       "      <td>31.8</td>\n",
       "      <td>ELEMENTARY</td>\n",
       "      <td>STATEWIDE (EXCLUDING NYC)</td>\n",
       "      <td>NaN</td>\n",
       "      <td>NaN</td>\n",
       "      <td>NaN</td>\n",
       "      <td>NaN</td>\n",
       "      <td>NaN</td>\n",
       "    </tr>\n",
       "    <tr>\n",
       "      <th>13</th>\n",
       "      <td>1</td>\n",
       "      <td>ALBANY</td>\n",
       "      <td>ALBANY</td>\n",
       "      <td>NORTHEASTERN NEW YORK</td>\n",
       "      <td>2010-2012</td>\n",
       "      <td>855.0</td>\n",
       "      <td>15.6</td>\n",
       "      <td>895.0</td>\n",
       "      <td>16.4</td>\n",
       "      <td>1750.0</td>\n",
       "      <td>32.0</td>\n",
       "      <td>ELEMENTARY</td>\n",
       "      <td>COUNTY</td>\n",
       "      <td>NaN</td>\n",
       "      <td>NaN</td>\n",
       "      <td>NaN</td>\n",
       "      <td>NaN</td>\n",
       "      <td>NaN</td>\n",
       "    </tr>\n",
       "    <tr>\n",
       "      <th>16</th>\n",
       "      <td>1</td>\n",
       "      <td>ALBANY</td>\n",
       "      <td>ALBANY</td>\n",
       "      <td>NORTHEASTERN NEW YORK</td>\n",
       "      <td>2012-2014</td>\n",
       "      <td>915.0</td>\n",
       "      <td>15.5</td>\n",
       "      <td>987.0</td>\n",
       "      <td>16.8</td>\n",
       "      <td>1902.0</td>\n",
       "      <td>32.3</td>\n",
       "      <td>ELEMENTARY</td>\n",
       "      <td>COUNTY</td>\n",
       "      <td>NaN</td>\n",
       "      <td>NaN</td>\n",
       "      <td>NaN</td>\n",
       "      <td>NaN</td>\n",
       "      <td>NaN</td>\n",
       "    </tr>\n",
       "    <tr>\n",
       "      <th>19</th>\n",
       "      <td>1</td>\n",
       "      <td>ALBANY</td>\n",
       "      <td>ALBANY</td>\n",
       "      <td>NORTHEASTERN NEW YORK</td>\n",
       "      <td>2014-2016</td>\n",
       "      <td>991.0</td>\n",
       "      <td>15.7</td>\n",
       "      <td>1033.0</td>\n",
       "      <td>16.3</td>\n",
       "      <td>2024.0</td>\n",
       "      <td>32.1</td>\n",
       "      <td>ELEMENTARY</td>\n",
       "      <td>COUNTY</td>\n",
       "      <td>NaN</td>\n",
       "      <td>NaN</td>\n",
       "      <td>NaN</td>\n",
       "      <td>NaN</td>\n",
       "      <td>NaN</td>\n",
       "    </tr>\n",
       "    <tr>\n",
       "      <th>22</th>\n",
       "      <td>1</td>\n",
       "      <td>ALBANY</td>\n",
       "      <td>ALBANY</td>\n",
       "      <td>NORTHEASTERN NEW YORK</td>\n",
       "      <td>2016-2018</td>\n",
       "      <td>1090.0</td>\n",
       "      <td>15.4</td>\n",
       "      <td>1099.0</td>\n",
       "      <td>15.5</td>\n",
       "      <td>2189.0</td>\n",
       "      <td>30.9</td>\n",
       "      <td>ELEMENTARY</td>\n",
       "      <td>COUNTY</td>\n",
       "      <td>NaN</td>\n",
       "      <td>NaN</td>\n",
       "      <td>NaN</td>\n",
       "      <td>NaN</td>\n",
       "      <td>NaN</td>\n",
       "    </tr>\n",
       "    <tr>\n",
       "      <th>25</th>\n",
       "      <td>2</td>\n",
       "      <td>ALLEGANY</td>\n",
       "      <td>ALLEGANY</td>\n",
       "      <td>WESTERN NEW YORK</td>\n",
       "      <td>2010-2012</td>\n",
       "      <td>247.0</td>\n",
       "      <td>15.1</td>\n",
       "      <td>217.0</td>\n",
       "      <td>13.2</td>\n",
       "      <td>464.0</td>\n",
       "      <td>28.3</td>\n",
       "      <td>ELEMENTARY</td>\n",
       "      <td>COUNTY</td>\n",
       "      <td>NaN</td>\n",
       "      <td>NaN</td>\n",
       "      <td>NaN</td>\n",
       "      <td>NaN</td>\n",
       "      <td>NaN</td>\n",
       "    </tr>\n",
       "    <tr>\n",
       "      <th>28</th>\n",
       "      <td>2</td>\n",
       "      <td>ALLEGANY</td>\n",
       "      <td>ALLEGANY</td>\n",
       "      <td>WESTERN NEW YORK</td>\n",
       "      <td>2012-2014</td>\n",
       "      <td>214.0</td>\n",
       "      <td>14.4</td>\n",
       "      <td>220.0</td>\n",
       "      <td>14.8</td>\n",
       "      <td>434.0</td>\n",
       "      <td>29.1</td>\n",
       "      <td>ELEMENTARY</td>\n",
       "      <td>COUNTY</td>\n",
       "      <td>NaN</td>\n",
       "      <td>NaN</td>\n",
       "      <td>NaN</td>\n",
       "      <td>NaN</td>\n",
       "      <td>NaN</td>\n",
       "    </tr>\n",
       "    <tr>\n",
       "      <th>31</th>\n",
       "      <td>2</td>\n",
       "      <td>ALLEGANY</td>\n",
       "      <td>ALLEGANY</td>\n",
       "      <td>WESTERN NEW YORK</td>\n",
       "      <td>2014-2016</td>\n",
       "      <td>226.0</td>\n",
       "      <td>15.3</td>\n",
       "      <td>176.0</td>\n",
       "      <td>11.9</td>\n",
       "      <td>402.0</td>\n",
       "      <td>27.2</td>\n",
       "      <td>ELEMENTARY</td>\n",
       "      <td>COUNTY</td>\n",
       "      <td>NaN</td>\n",
       "      <td>NaN</td>\n",
       "      <td>NaN</td>\n",
       "      <td>NaN</td>\n",
       "      <td>NaN</td>\n",
       "    </tr>\n",
       "    <tr>\n",
       "      <th>34</th>\n",
       "      <td>2</td>\n",
       "      <td>ALLEGANY</td>\n",
       "      <td>ALLEGANY</td>\n",
       "      <td>WESTERN NEW YORK</td>\n",
       "      <td>2016-2018</td>\n",
       "      <td>174.0</td>\n",
       "      <td>12.8</td>\n",
       "      <td>165.0</td>\n",
       "      <td>12.1</td>\n",
       "      <td>339.0</td>\n",
       "      <td>24.9</td>\n",
       "      <td>ELEMENTARY</td>\n",
       "      <td>COUNTY</td>\n",
       "      <td>NaN</td>\n",
       "      <td>NaN</td>\n",
       "      <td>NaN</td>\n",
       "      <td>NaN</td>\n",
       "      <td>NaN</td>\n",
       "    </tr>\n",
       "    <tr>\n",
       "      <th>37</th>\n",
       "      <td>3</td>\n",
       "      <td>BROOME</td>\n",
       "      <td>BROOME</td>\n",
       "      <td>NEW YORK - PENN</td>\n",
       "      <td>2010-2012</td>\n",
       "      <td>860.0</td>\n",
       "      <td>16.2</td>\n",
       "      <td>881.0</td>\n",
       "      <td>16.6</td>\n",
       "      <td>1741.0</td>\n",
       "      <td>32.9</td>\n",
       "      <td>ELEMENTARY</td>\n",
       "      <td>COUNTY</td>\n",
       "      <td>NaN</td>\n",
       "      <td>NaN</td>\n",
       "      <td>NaN</td>\n",
       "      <td>NaN</td>\n",
       "      <td>NaN</td>\n",
       "    </tr>\n",
       "    <tr>\n",
       "      <th>40</th>\n",
       "      <td>3</td>\n",
       "      <td>BROOME</td>\n",
       "      <td>BROOME</td>\n",
       "      <td>NEW YORK - PENN</td>\n",
       "      <td>2012-2014</td>\n",
       "      <td>892.0</td>\n",
       "      <td>16.7</td>\n",
       "      <td>930.0</td>\n",
       "      <td>17.4</td>\n",
       "      <td>1822.0</td>\n",
       "      <td>34.2</td>\n",
       "      <td>ELEMENTARY</td>\n",
       "      <td>COUNTY</td>\n",
       "      <td>NaN</td>\n",
       "      <td>NaN</td>\n",
       "      <td>NaN</td>\n",
       "      <td>NaN</td>\n",
       "      <td>NaN</td>\n",
       "    </tr>\n",
       "    <tr>\n",
       "      <th>43</th>\n",
       "      <td>3</td>\n",
       "      <td>BROOME</td>\n",
       "      <td>BROOME</td>\n",
       "      <td>NEW YORK - PENN</td>\n",
       "      <td>2014-2016</td>\n",
       "      <td>804.0</td>\n",
       "      <td>15.5</td>\n",
       "      <td>818.0</td>\n",
       "      <td>15.7</td>\n",
       "      <td>1622.0</td>\n",
       "      <td>31.3</td>\n",
       "      <td>ELEMENTARY</td>\n",
       "      <td>COUNTY</td>\n",
       "      <td>NaN</td>\n",
       "      <td>NaN</td>\n",
       "      <td>NaN</td>\n",
       "      <td>NaN</td>\n",
       "      <td>NaN</td>\n",
       "    </tr>\n",
       "    <tr>\n",
       "      <th>46</th>\n",
       "      <td>3</td>\n",
       "      <td>BROOME</td>\n",
       "      <td>BROOME</td>\n",
       "      <td>NEW YORK - PENN</td>\n",
       "      <td>2016-2018</td>\n",
       "      <td>769.0</td>\n",
       "      <td>15.8</td>\n",
       "      <td>813.0</td>\n",
       "      <td>16.7</td>\n",
       "      <td>1582.0</td>\n",
       "      <td>32.4</td>\n",
       "      <td>ELEMENTARY</td>\n",
       "      <td>COUNTY</td>\n",
       "      <td>NaN</td>\n",
       "      <td>NaN</td>\n",
       "      <td>NaN</td>\n",
       "      <td>NaN</td>\n",
       "      <td>NaN</td>\n",
       "    </tr>\n",
       "    <tr>\n",
       "      <th>49</th>\n",
       "      <td>4</td>\n",
       "      <td>CATTARAUGUS</td>\n",
       "      <td>CATTARAUGUS</td>\n",
       "      <td>WESTERN NEW YORK</td>\n",
       "      <td>2010-2012</td>\n",
       "      <td>575.0</td>\n",
       "      <td>18.4</td>\n",
       "      <td>565.0</td>\n",
       "      <td>18.1</td>\n",
       "      <td>1140.0</td>\n",
       "      <td>36.5</td>\n",
       "      <td>ELEMENTARY</td>\n",
       "      <td>COUNTY</td>\n",
       "      <td>NaN</td>\n",
       "      <td>NaN</td>\n",
       "      <td>NaN</td>\n",
       "      <td>NaN</td>\n",
       "      <td>NaN</td>\n",
       "    </tr>\n",
       "    <tr>\n",
       "      <th>52</th>\n",
       "      <td>4</td>\n",
       "      <td>CATTARAUGUS</td>\n",
       "      <td>CATTARAUGUS</td>\n",
       "      <td>WESTERN NEW YORK</td>\n",
       "      <td>2012-2014</td>\n",
       "      <td>551.0</td>\n",
       "      <td>17.2</td>\n",
       "      <td>571.0</td>\n",
       "      <td>17.8</td>\n",
       "      <td>1122.0</td>\n",
       "      <td>35.0</td>\n",
       "      <td>ELEMENTARY</td>\n",
       "      <td>COUNTY</td>\n",
       "      <td>NaN</td>\n",
       "      <td>NaN</td>\n",
       "      <td>NaN</td>\n",
       "      <td>NaN</td>\n",
       "      <td>NaN</td>\n",
       "    </tr>\n",
       "    <tr>\n",
       "      <th>55</th>\n",
       "      <td>4</td>\n",
       "      <td>CATTARAUGUS</td>\n",
       "      <td>CATTARAUGUS</td>\n",
       "      <td>WESTERN NEW YORK</td>\n",
       "      <td>2014-2016</td>\n",
       "      <td>515.0</td>\n",
       "      <td>16.7</td>\n",
       "      <td>520.0</td>\n",
       "      <td>16.8</td>\n",
       "      <td>1035.0</td>\n",
       "      <td>33.5</td>\n",
       "      <td>ELEMENTARY</td>\n",
       "      <td>COUNTY</td>\n",
       "      <td>NaN</td>\n",
       "      <td>NaN</td>\n",
       "      <td>NaN</td>\n",
       "      <td>NaN</td>\n",
       "      <td>NaN</td>\n",
       "    </tr>\n",
       "    <tr>\n",
       "      <th>58</th>\n",
       "      <td>4</td>\n",
       "      <td>CATTARAUGUS</td>\n",
       "      <td>CATTARAUGUS</td>\n",
       "      <td>WESTERN NEW YORK</td>\n",
       "      <td>2016-2018</td>\n",
       "      <td>499.0</td>\n",
       "      <td>16.6</td>\n",
       "      <td>554.0</td>\n",
       "      <td>18.5</td>\n",
       "      <td>1053.0</td>\n",
       "      <td>35.1</td>\n",
       "      <td>ELEMENTARY</td>\n",
       "      <td>COUNTY</td>\n",
       "      <td>NaN</td>\n",
       "      <td>NaN</td>\n",
       "      <td>NaN</td>\n",
       "      <td>NaN</td>\n",
       "      <td>NaN</td>\n",
       "    </tr>\n",
       "    <tr>\n",
       "      <th>61</th>\n",
       "      <td>5</td>\n",
       "      <td>CAYUGA</td>\n",
       "      <td>CAYUGA</td>\n",
       "      <td>CENTRAL NEW YORK</td>\n",
       "      <td>2010-2012</td>\n",
       "      <td>368.0</td>\n",
       "      <td>16.3</td>\n",
       "      <td>495.0</td>\n",
       "      <td>21.9</td>\n",
       "      <td>863.0</td>\n",
       "      <td>38.2</td>\n",
       "      <td>ELEMENTARY</td>\n",
       "      <td>COUNTY</td>\n",
       "      <td>NaN</td>\n",
       "      <td>NaN</td>\n",
       "      <td>NaN</td>\n",
       "      <td>NaN</td>\n",
       "      <td>NaN</td>\n",
       "    </tr>\n",
       "    <tr>\n",
       "      <th>64</th>\n",
       "      <td>5</td>\n",
       "      <td>CAYUGA</td>\n",
       "      <td>CAYUGA</td>\n",
       "      <td>CENTRAL NEW YORK</td>\n",
       "      <td>2012-2014</td>\n",
       "      <td>354.0</td>\n",
       "      <td>15.0</td>\n",
       "      <td>503.0</td>\n",
       "      <td>21.3</td>\n",
       "      <td>857.0</td>\n",
       "      <td>36.4</td>\n",
       "      <td>ELEMENTARY</td>\n",
       "      <td>COUNTY</td>\n",
       "      <td>NaN</td>\n",
       "      <td>NaN</td>\n",
       "      <td>NaN</td>\n",
       "      <td>NaN</td>\n",
       "      <td>NaN</td>\n",
       "    </tr>\n",
       "    <tr>\n",
       "      <th>67</th>\n",
       "      <td>5</td>\n",
       "      <td>CAYUGA</td>\n",
       "      <td>CAYUGA</td>\n",
       "      <td>CENTRAL NEW YORK</td>\n",
       "      <td>2014-2016</td>\n",
       "      <td>335.0</td>\n",
       "      <td>16.3</td>\n",
       "      <td>379.0</td>\n",
       "      <td>18.4</td>\n",
       "      <td>714.0</td>\n",
       "      <td>34.7</td>\n",
       "      <td>ELEMENTARY</td>\n",
       "      <td>COUNTY</td>\n",
       "      <td>NaN</td>\n",
       "      <td>NaN</td>\n",
       "      <td>NaN</td>\n",
       "      <td>NaN</td>\n",
       "      <td>NaN</td>\n",
       "    </tr>\n",
       "    <tr>\n",
       "      <th>70</th>\n",
       "      <td>5</td>\n",
       "      <td>CAYUGA</td>\n",
       "      <td>CAYUGA</td>\n",
       "      <td>CENTRAL NEW YORK</td>\n",
       "      <td>2016-2018</td>\n",
       "      <td>371.0</td>\n",
       "      <td>16.6</td>\n",
       "      <td>424.0</td>\n",
       "      <td>19.0</td>\n",
       "      <td>795.0</td>\n",
       "      <td>35.6</td>\n",
       "      <td>ELEMENTARY</td>\n",
       "      <td>COUNTY</td>\n",
       "      <td>NaN</td>\n",
       "      <td>NaN</td>\n",
       "      <td>NaN</td>\n",
       "      <td>NaN</td>\n",
       "      <td>NaN</td>\n",
       "    </tr>\n",
       "    <tr>\n",
       "      <th>73</th>\n",
       "      <td>6</td>\n",
       "      <td>CHAUTAUQUA</td>\n",
       "      <td>CHAUTAUQUA</td>\n",
       "      <td>WESTERN NEW YORK</td>\n",
       "      <td>2010-2012</td>\n",
       "      <td>668.0</td>\n",
       "      <td>15.6</td>\n",
       "      <td>723.0</td>\n",
       "      <td>16.8</td>\n",
       "      <td>1391.0</td>\n",
       "      <td>32.4</td>\n",
       "      <td>ELEMENTARY</td>\n",
       "      <td>COUNTY</td>\n",
       "      <td>NaN</td>\n",
       "      <td>NaN</td>\n",
       "      <td>NaN</td>\n",
       "      <td>NaN</td>\n",
       "      <td>NaN</td>\n",
       "    </tr>\n",
       "    <tr>\n",
       "      <th>76</th>\n",
       "      <td>6</td>\n",
       "      <td>CHAUTAUQUA</td>\n",
       "      <td>CHAUTAUQUA</td>\n",
       "      <td>WESTERN NEW YORK</td>\n",
       "      <td>2012-2014</td>\n",
       "      <td>636.0</td>\n",
       "      <td>15.6</td>\n",
       "      <td>701.0</td>\n",
       "      <td>17.2</td>\n",
       "      <td>1337.0</td>\n",
       "      <td>32.7</td>\n",
       "      <td>ELEMENTARY</td>\n",
       "      <td>COUNTY</td>\n",
       "      <td>NaN</td>\n",
       "      <td>NaN</td>\n",
       "      <td>NaN</td>\n",
       "      <td>NaN</td>\n",
       "      <td>NaN</td>\n",
       "    </tr>\n",
       "    <tr>\n",
       "      <th>79</th>\n",
       "      <td>6</td>\n",
       "      <td>CHAUTAUQUA</td>\n",
       "      <td>CHAUTAUQUA</td>\n",
       "      <td>WESTERN NEW YORK</td>\n",
       "      <td>2014-2016</td>\n",
       "      <td>629.0</td>\n",
       "      <td>16.3</td>\n",
       "      <td>689.0</td>\n",
       "      <td>17.9</td>\n",
       "      <td>1318.0</td>\n",
       "      <td>34.3</td>\n",
       "      <td>ELEMENTARY</td>\n",
       "      <td>COUNTY</td>\n",
       "      <td>NaN</td>\n",
       "      <td>NaN</td>\n",
       "      <td>NaN</td>\n",
       "      <td>NaN</td>\n",
       "      <td>NaN</td>\n",
       "    </tr>\n",
       "    <tr>\n",
       "      <th>82</th>\n",
       "      <td>6</td>\n",
       "      <td>CHAUTAUQUA</td>\n",
       "      <td>CHAUTAUQUA</td>\n",
       "      <td>WESTERN NEW YORK</td>\n",
       "      <td>2016-2018</td>\n",
       "      <td>691.0</td>\n",
       "      <td>16.4</td>\n",
       "      <td>804.0</td>\n",
       "      <td>19.1</td>\n",
       "      <td>1495.0</td>\n",
       "      <td>35.5</td>\n",
       "      <td>ELEMENTARY</td>\n",
       "      <td>COUNTY</td>\n",
       "      <td>NaN</td>\n",
       "      <td>NaN</td>\n",
       "      <td>NaN</td>\n",
       "      <td>NaN</td>\n",
       "      <td>NaN</td>\n",
       "    </tr>\n",
       "    <tr>\n",
       "      <th>85</th>\n",
       "      <td>7</td>\n",
       "      <td>CHEMUNG</td>\n",
       "      <td>CHEMUNG</td>\n",
       "      <td>FINGER LAKES</td>\n",
       "      <td>2010-2012</td>\n",
       "      <td>312.0</td>\n",
       "      <td>18.2</td>\n",
       "      <td>320.0</td>\n",
       "      <td>18.7</td>\n",
       "      <td>632.0</td>\n",
       "      <td>36.9</td>\n",
       "      <td>ELEMENTARY</td>\n",
       "      <td>COUNTY</td>\n",
       "      <td>NaN</td>\n",
       "      <td>NaN</td>\n",
       "      <td>NaN</td>\n",
       "      <td>NaN</td>\n",
       "      <td>NaN</td>\n",
       "    </tr>\n",
       "    <tr>\n",
       "      <th>88</th>\n",
       "      <td>7</td>\n",
       "      <td>CHEMUNG</td>\n",
       "      <td>CHEMUNG</td>\n",
       "      <td>FINGER LAKES</td>\n",
       "      <td>2012-2014</td>\n",
       "      <td>345.0</td>\n",
       "      <td>16.3</td>\n",
       "      <td>398.0</td>\n",
       "      <td>18.8</td>\n",
       "      <td>743.0</td>\n",
       "      <td>35.2</td>\n",
       "      <td>ELEMENTARY</td>\n",
       "      <td>COUNTY</td>\n",
       "      <td>NaN</td>\n",
       "      <td>NaN</td>\n",
       "      <td>NaN</td>\n",
       "      <td>NaN</td>\n",
       "      <td>NaN</td>\n",
       "    </tr>\n",
       "    <tr>\n",
       "      <th>...</th>\n",
       "      <td>...</td>\n",
       "      <td>...</td>\n",
       "      <td>...</td>\n",
       "      <td>...</td>\n",
       "      <td>...</td>\n",
       "      <td>...</td>\n",
       "      <td>...</td>\n",
       "      <td>...</td>\n",
       "      <td>...</td>\n",
       "      <td>...</td>\n",
       "      <td>...</td>\n",
       "      <td>...</td>\n",
       "      <td>...</td>\n",
       "      <td>...</td>\n",
       "      <td>...</td>\n",
       "      <td>...</td>\n",
       "      <td>...</td>\n",
       "      <td>...</td>\n",
       "    </tr>\n",
       "    <tr>\n",
       "      <th>8833</th>\n",
       "      <td>670201</td>\n",
       "      <td>WYOMING</td>\n",
       "      <td>ATTICA CENTRAL SCHOOL DISTRICT</td>\n",
       "      <td>WESTERN NEW YORK</td>\n",
       "      <td>2014-2016</td>\n",
       "      <td>24.0</td>\n",
       "      <td>12.9</td>\n",
       "      <td>24.0</td>\n",
       "      <td>12.9</td>\n",
       "      <td>48.0</td>\n",
       "      <td>25.8</td>\n",
       "      <td>ELEMENTARY</td>\n",
       "      <td>SCHOOL DISTRICT</td>\n",
       "      <td>3338 E MAIN ST</td>\n",
       "      <td>ATTICA</td>\n",
       "      <td>NY</td>\n",
       "      <td>14011.0</td>\n",
       "      <td>(42.8618, -78.2603)</td>\n",
       "    </tr>\n",
       "    <tr>\n",
       "      <th>8836</th>\n",
       "      <td>670201</td>\n",
       "      <td>WYOMING</td>\n",
       "      <td>ATTICA CENTRAL SCHOOL DISTRICT</td>\n",
       "      <td>WESTERN NEW YORK</td>\n",
       "      <td>2016-2018</td>\n",
       "      <td>45.0</td>\n",
       "      <td>18.1</td>\n",
       "      <td>42.0</td>\n",
       "      <td>16.9</td>\n",
       "      <td>87.0</td>\n",
       "      <td>34.9</td>\n",
       "      <td>ELEMENTARY</td>\n",
       "      <td>SCHOOL DISTRICT</td>\n",
       "      <td>3338 E MAIN ST</td>\n",
       "      <td>ATTICA</td>\n",
       "      <td>NY</td>\n",
       "      <td>14011.0</td>\n",
       "      <td>(42.8618, -78.2603)</td>\n",
       "    </tr>\n",
       "    <tr>\n",
       "      <th>8839</th>\n",
       "      <td>670401</td>\n",
       "      <td>WYOMING</td>\n",
       "      <td>LETCHWORTH CENT SCH AT GAINESVILLE</td>\n",
       "      <td>WESTERN NEW YORK</td>\n",
       "      <td>2010-2012</td>\n",
       "      <td>32.0</td>\n",
       "      <td>17.7</td>\n",
       "      <td>22.0</td>\n",
       "      <td>12.2</td>\n",
       "      <td>54.0</td>\n",
       "      <td>29.8</td>\n",
       "      <td>ELEMENTARY</td>\n",
       "      <td>SCHOOL DISTRICT</td>\n",
       "      <td>5550 SCHOOL RD</td>\n",
       "      <td>GAINESVILLE</td>\n",
       "      <td>NY</td>\n",
       "      <td>14066.0</td>\n",
       "      <td>(42.6301, -78.1154)</td>\n",
       "    </tr>\n",
       "    <tr>\n",
       "      <th>8842</th>\n",
       "      <td>670401</td>\n",
       "      <td>WYOMING</td>\n",
       "      <td>LETCHWORTH CENT SCH AT GAINESVILLE</td>\n",
       "      <td>WESTERN NEW YORK</td>\n",
       "      <td>2012-2014</td>\n",
       "      <td>32.0</td>\n",
       "      <td>17.6</td>\n",
       "      <td>32.0</td>\n",
       "      <td>17.6</td>\n",
       "      <td>64.0</td>\n",
       "      <td>35.2</td>\n",
       "      <td>ELEMENTARY</td>\n",
       "      <td>SCHOOL DISTRICT</td>\n",
       "      <td>5550 SCHOOL RD</td>\n",
       "      <td>GAINESVILLE</td>\n",
       "      <td>NY</td>\n",
       "      <td>14066.0</td>\n",
       "      <td>(42.6301, -78.1154)</td>\n",
       "    </tr>\n",
       "    <tr>\n",
       "      <th>8845</th>\n",
       "      <td>670401</td>\n",
       "      <td>WYOMING</td>\n",
       "      <td>LETCHWORTH CENT SCH AT GAINESVILLE</td>\n",
       "      <td>WESTERN NEW YORK</td>\n",
       "      <td>2014-2016</td>\n",
       "      <td>34.0</td>\n",
       "      <td>19.8</td>\n",
       "      <td>29.0</td>\n",
       "      <td>16.9</td>\n",
       "      <td>63.0</td>\n",
       "      <td>36.8</td>\n",
       "      <td>ELEMENTARY</td>\n",
       "      <td>SCHOOL DISTRICT</td>\n",
       "      <td>5550 SCHOOL RD</td>\n",
       "      <td>GAINESVILLE</td>\n",
       "      <td>NY</td>\n",
       "      <td>14066.0</td>\n",
       "      <td>(42.6301, -78.1154)</td>\n",
       "    </tr>\n",
       "    <tr>\n",
       "      <th>8848</th>\n",
       "      <td>670401</td>\n",
       "      <td>WYOMING</td>\n",
       "      <td>LETCHWORTH CENT SCH AT GAINESVILLE</td>\n",
       "      <td>WESTERN NEW YORK</td>\n",
       "      <td>2016-2018</td>\n",
       "      <td>33.0</td>\n",
       "      <td>18.2</td>\n",
       "      <td>32.0</td>\n",
       "      <td>17.7</td>\n",
       "      <td>65.0</td>\n",
       "      <td>35.9</td>\n",
       "      <td>ELEMENTARY</td>\n",
       "      <td>SCHOOL DISTRICT</td>\n",
       "      <td>5550 SCHOOL RD</td>\n",
       "      <td>GAINESVILLE</td>\n",
       "      <td>NY</td>\n",
       "      <td>14066.0</td>\n",
       "      <td>(42.6301, -78.1154)</td>\n",
       "    </tr>\n",
       "    <tr>\n",
       "      <th>8851</th>\n",
       "      <td>671002</td>\n",
       "      <td>WYOMING</td>\n",
       "      <td>WYOMING CENTRAL SCHOOL DISTRICT</td>\n",
       "      <td>WESTERN NEW YORK</td>\n",
       "      <td>2010-2012</td>\n",
       "      <td>9.0</td>\n",
       "      <td>18.8</td>\n",
       "      <td>NaN</td>\n",
       "      <td>NaN</td>\n",
       "      <td>9.0</td>\n",
       "      <td>18.8</td>\n",
       "      <td>ELEMENTARY</td>\n",
       "      <td>SCHOOL DISTRICT</td>\n",
       "      <td>1225 RT 19</td>\n",
       "      <td>WYOMING</td>\n",
       "      <td>NY</td>\n",
       "      <td>14591.0</td>\n",
       "      <td>(42.8213, -78.0944)</td>\n",
       "    </tr>\n",
       "    <tr>\n",
       "      <th>8854</th>\n",
       "      <td>671002</td>\n",
       "      <td>WYOMING</td>\n",
       "      <td>WYOMING CENTRAL SCHOOL DISTRICT</td>\n",
       "      <td>WESTERN NEW YORK</td>\n",
       "      <td>2012-2014</td>\n",
       "      <td>NaN</td>\n",
       "      <td>NaN</td>\n",
       "      <td>NaN</td>\n",
       "      <td>NaN</td>\n",
       "      <td>NaN</td>\n",
       "      <td>NaN</td>\n",
       "      <td>ELEMENTARY</td>\n",
       "      <td>SCHOOL DISTRICT</td>\n",
       "      <td>1225 RT 19</td>\n",
       "      <td>WYOMING</td>\n",
       "      <td>NY</td>\n",
       "      <td>14591.0</td>\n",
       "      <td>(42.8213, -78.0944)</td>\n",
       "    </tr>\n",
       "    <tr>\n",
       "      <th>8857</th>\n",
       "      <td>671002</td>\n",
       "      <td>WYOMING</td>\n",
       "      <td>WYOMING CENTRAL SCHOOL DISTRICT</td>\n",
       "      <td>WESTERN NEW YORK</td>\n",
       "      <td>2014-2016</td>\n",
       "      <td>NaN</td>\n",
       "      <td>NaN</td>\n",
       "      <td>NaN</td>\n",
       "      <td>NaN</td>\n",
       "      <td>NaN</td>\n",
       "      <td>NaN</td>\n",
       "      <td>ELEMENTARY</td>\n",
       "      <td>SCHOOL DISTRICT</td>\n",
       "      <td>1225 RT 19</td>\n",
       "      <td>WYOMING</td>\n",
       "      <td>NY</td>\n",
       "      <td>14591.0</td>\n",
       "      <td>(42.8213, -78.0944)</td>\n",
       "    </tr>\n",
       "    <tr>\n",
       "      <th>8860</th>\n",
       "      <td>671002</td>\n",
       "      <td>WYOMING</td>\n",
       "      <td>WYOMING CENTRAL SCHOOL DISTRICT</td>\n",
       "      <td>WESTERN NEW YORK</td>\n",
       "      <td>2016-2018</td>\n",
       "      <td>NaN</td>\n",
       "      <td>NaN</td>\n",
       "      <td>NaN</td>\n",
       "      <td>NaN</td>\n",
       "      <td>NaN</td>\n",
       "      <td>NaN</td>\n",
       "      <td>ELEMENTARY</td>\n",
       "      <td>SCHOOL DISTRICT</td>\n",
       "      <td>1225 RT 19</td>\n",
       "      <td>WYOMING</td>\n",
       "      <td>NY</td>\n",
       "      <td>14591.0</td>\n",
       "      <td>(42.8213, -78.0944)</td>\n",
       "    </tr>\n",
       "    <tr>\n",
       "      <th>8863</th>\n",
       "      <td>671201</td>\n",
       "      <td>WYOMING</td>\n",
       "      <td>PERRY CENTRAL SCHOOL DISTRICT</td>\n",
       "      <td>WESTERN NEW YORK</td>\n",
       "      <td>2010-2012</td>\n",
       "      <td>35.0</td>\n",
       "      <td>18.1</td>\n",
       "      <td>49.0</td>\n",
       "      <td>25.4</td>\n",
       "      <td>84.0</td>\n",
       "      <td>43.5</td>\n",
       "      <td>ELEMENTARY</td>\n",
       "      <td>SCHOOL DISTRICT</td>\n",
       "      <td>33 WATKINS AVE</td>\n",
       "      <td>PERRY</td>\n",
       "      <td>NY</td>\n",
       "      <td>14530.0</td>\n",
       "      <td>(42.7236, -78.003)</td>\n",
       "    </tr>\n",
       "    <tr>\n",
       "      <th>8866</th>\n",
       "      <td>671201</td>\n",
       "      <td>WYOMING</td>\n",
       "      <td>PERRY CENTRAL SCHOOL DISTRICT</td>\n",
       "      <td>WESTERN NEW YORK</td>\n",
       "      <td>2012-2014</td>\n",
       "      <td>29.0</td>\n",
       "      <td>20.9</td>\n",
       "      <td>24.0</td>\n",
       "      <td>17.3</td>\n",
       "      <td>53.0</td>\n",
       "      <td>38.1</td>\n",
       "      <td>ELEMENTARY</td>\n",
       "      <td>SCHOOL DISTRICT</td>\n",
       "      <td>33 WATKINS AVE</td>\n",
       "      <td>PERRY</td>\n",
       "      <td>NY</td>\n",
       "      <td>14530.0</td>\n",
       "      <td>(42.7236, -78.003)</td>\n",
       "    </tr>\n",
       "    <tr>\n",
       "      <th>8869</th>\n",
       "      <td>671201</td>\n",
       "      <td>WYOMING</td>\n",
       "      <td>PERRY CENTRAL SCHOOL DISTRICT</td>\n",
       "      <td>WESTERN NEW YORK</td>\n",
       "      <td>2014-2016</td>\n",
       "      <td>26.0</td>\n",
       "      <td>14.6</td>\n",
       "      <td>20.0</td>\n",
       "      <td>11.2</td>\n",
       "      <td>46.0</td>\n",
       "      <td>25.8</td>\n",
       "      <td>ELEMENTARY</td>\n",
       "      <td>SCHOOL DISTRICT</td>\n",
       "      <td>33 WATKINS AVE</td>\n",
       "      <td>PERRY</td>\n",
       "      <td>NY</td>\n",
       "      <td>14530.0</td>\n",
       "      <td>(42.7236, -78.003)</td>\n",
       "    </tr>\n",
       "    <tr>\n",
       "      <th>8872</th>\n",
       "      <td>671201</td>\n",
       "      <td>WYOMING</td>\n",
       "      <td>PERRY CENTRAL SCHOOL DISTRICT</td>\n",
       "      <td>WESTERN NEW YORK</td>\n",
       "      <td>2016-2018</td>\n",
       "      <td>33.0</td>\n",
       "      <td>15.6</td>\n",
       "      <td>39.0</td>\n",
       "      <td>18.5</td>\n",
       "      <td>72.0</td>\n",
       "      <td>34.1</td>\n",
       "      <td>ELEMENTARY</td>\n",
       "      <td>SCHOOL DISTRICT</td>\n",
       "      <td>33 WATKINS AVE</td>\n",
       "      <td>PERRY</td>\n",
       "      <td>NY</td>\n",
       "      <td>14530.0</td>\n",
       "      <td>(42.7236, -78.003)</td>\n",
       "    </tr>\n",
       "    <tr>\n",
       "      <th>8875</th>\n",
       "      <td>671501</td>\n",
       "      <td>WYOMING</td>\n",
       "      <td>WARSAW CENTRAL SCHOOL DISTRICT</td>\n",
       "      <td>WESTERN NEW YORK</td>\n",
       "      <td>2010-2012</td>\n",
       "      <td>45.0</td>\n",
       "      <td>21.7</td>\n",
       "      <td>45.0</td>\n",
       "      <td>21.7</td>\n",
       "      <td>90.0</td>\n",
       "      <td>43.5</td>\n",
       "      <td>ELEMENTARY</td>\n",
       "      <td>SCHOOL DISTRICT</td>\n",
       "      <td>153 W BUFFALO ST</td>\n",
       "      <td>WARSAW</td>\n",
       "      <td>NY</td>\n",
       "      <td>14569.0</td>\n",
       "      <td>(42.7403, -78.1382)</td>\n",
       "    </tr>\n",
       "    <tr>\n",
       "      <th>8878</th>\n",
       "      <td>671501</td>\n",
       "      <td>WYOMING</td>\n",
       "      <td>WARSAW CENTRAL SCHOOL DISTRICT</td>\n",
       "      <td>WESTERN NEW YORK</td>\n",
       "      <td>2012-2014</td>\n",
       "      <td>29.0</td>\n",
       "      <td>13.9</td>\n",
       "      <td>35.0</td>\n",
       "      <td>16.8</td>\n",
       "      <td>64.0</td>\n",
       "      <td>30.8</td>\n",
       "      <td>ELEMENTARY</td>\n",
       "      <td>SCHOOL DISTRICT</td>\n",
       "      <td>153 W BUFFALO ST</td>\n",
       "      <td>WARSAW</td>\n",
       "      <td>NY</td>\n",
       "      <td>14569.0</td>\n",
       "      <td>(42.7403, -78.1382)</td>\n",
       "    </tr>\n",
       "    <tr>\n",
       "      <th>8881</th>\n",
       "      <td>671501</td>\n",
       "      <td>WYOMING</td>\n",
       "      <td>WARSAW CENTRAL SCHOOL DISTRICT</td>\n",
       "      <td>WESTERN NEW YORK</td>\n",
       "      <td>2014-2016</td>\n",
       "      <td>33.0</td>\n",
       "      <td>16.4</td>\n",
       "      <td>23.0</td>\n",
       "      <td>11.4</td>\n",
       "      <td>56.0</td>\n",
       "      <td>27.8</td>\n",
       "      <td>ELEMENTARY</td>\n",
       "      <td>SCHOOL DISTRICT</td>\n",
       "      <td>153 W BUFFALO ST</td>\n",
       "      <td>WARSAW</td>\n",
       "      <td>NY</td>\n",
       "      <td>14569.0</td>\n",
       "      <td>(42.7403, -78.1382)</td>\n",
       "    </tr>\n",
       "    <tr>\n",
       "      <th>8884</th>\n",
       "      <td>671501</td>\n",
       "      <td>WYOMING</td>\n",
       "      <td>WARSAW CENTRAL SCHOOL DISTRICT</td>\n",
       "      <td>WESTERN NEW YORK</td>\n",
       "      <td>2016-2018</td>\n",
       "      <td>36.0</td>\n",
       "      <td>17.8</td>\n",
       "      <td>35.0</td>\n",
       "      <td>17.3</td>\n",
       "      <td>71.0</td>\n",
       "      <td>35.1</td>\n",
       "      <td>ELEMENTARY</td>\n",
       "      <td>SCHOOL DISTRICT</td>\n",
       "      <td>153 W BUFFALO ST</td>\n",
       "      <td>WARSAW</td>\n",
       "      <td>NY</td>\n",
       "      <td>14569.0</td>\n",
       "      <td>(42.7403, -78.1382)</td>\n",
       "    </tr>\n",
       "    <tr>\n",
       "      <th>8887</th>\n",
       "      <td>680601</td>\n",
       "      <td>YATES</td>\n",
       "      <td>PENN YAN CENTRAL SCHOOL DISTRICT</td>\n",
       "      <td>FINGER LAKES</td>\n",
       "      <td>2010-2012</td>\n",
       "      <td>45.0</td>\n",
       "      <td>18.2</td>\n",
       "      <td>48.0</td>\n",
       "      <td>19.4</td>\n",
       "      <td>93.0</td>\n",
       "      <td>37.7</td>\n",
       "      <td>ELEMENTARY</td>\n",
       "      <td>SCHOOL DISTRICT</td>\n",
       "      <td>1 SCHOOL DR</td>\n",
       "      <td>PENN YAN</td>\n",
       "      <td>NY</td>\n",
       "      <td>14527.0</td>\n",
       "      <td>(42.6671, -77.063)</td>\n",
       "    </tr>\n",
       "    <tr>\n",
       "      <th>8890</th>\n",
       "      <td>680601</td>\n",
       "      <td>YATES</td>\n",
       "      <td>PENN YAN CENTRAL SCHOOL DISTRICT</td>\n",
       "      <td>FINGER LAKES</td>\n",
       "      <td>2012-2014</td>\n",
       "      <td>32.0</td>\n",
       "      <td>12.3</td>\n",
       "      <td>58.0</td>\n",
       "      <td>22.3</td>\n",
       "      <td>90.0</td>\n",
       "      <td>34.6</td>\n",
       "      <td>ELEMENTARY</td>\n",
       "      <td>SCHOOL DISTRICT</td>\n",
       "      <td>1 SCHOOL DR</td>\n",
       "      <td>PENN YAN</td>\n",
       "      <td>NY</td>\n",
       "      <td>14527.0</td>\n",
       "      <td>(42.6671, -77.063)</td>\n",
       "    </tr>\n",
       "    <tr>\n",
       "      <th>8893</th>\n",
       "      <td>680601</td>\n",
       "      <td>YATES</td>\n",
       "      <td>PENN YAN CENTRAL SCHOOL DISTRICT</td>\n",
       "      <td>FINGER LAKES</td>\n",
       "      <td>2014-2016</td>\n",
       "      <td>46.0</td>\n",
       "      <td>15.4</td>\n",
       "      <td>68.0</td>\n",
       "      <td>22.8</td>\n",
       "      <td>114.0</td>\n",
       "      <td>38.3</td>\n",
       "      <td>ELEMENTARY</td>\n",
       "      <td>SCHOOL DISTRICT</td>\n",
       "      <td>1 SCHOOL DR</td>\n",
       "      <td>PENN YAN</td>\n",
       "      <td>NY</td>\n",
       "      <td>14527.0</td>\n",
       "      <td>(42.6671, -77.063)</td>\n",
       "    </tr>\n",
       "    <tr>\n",
       "      <th>8896</th>\n",
       "      <td>680601</td>\n",
       "      <td>YATES</td>\n",
       "      <td>PENN YAN CENTRAL SCHOOL DISTRICT</td>\n",
       "      <td>FINGER LAKES</td>\n",
       "      <td>2016-2018</td>\n",
       "      <td>60.0</td>\n",
       "      <td>16.3</td>\n",
       "      <td>70.0</td>\n",
       "      <td>19.1</td>\n",
       "      <td>130.0</td>\n",
       "      <td>35.4</td>\n",
       "      <td>ELEMENTARY</td>\n",
       "      <td>SCHOOL DISTRICT</td>\n",
       "      <td>1 SCHOOL DR</td>\n",
       "      <td>PENN YAN</td>\n",
       "      <td>NY</td>\n",
       "      <td>14527.0</td>\n",
       "      <td>(42.6671, -77.063)</td>\n",
       "    </tr>\n",
       "    <tr>\n",
       "      <th>8899</th>\n",
       "      <td>680801</td>\n",
       "      <td>YATES</td>\n",
       "      <td>DUNDEE CENTRAL SCHOOL DISTRICT</td>\n",
       "      <td>FINGER LAKES</td>\n",
       "      <td>2010-2012</td>\n",
       "      <td>28.0</td>\n",
       "      <td>15.6</td>\n",
       "      <td>20.0</td>\n",
       "      <td>11.1</td>\n",
       "      <td>48.0</td>\n",
       "      <td>26.7</td>\n",
       "      <td>ELEMENTARY</td>\n",
       "      <td>SCHOOL DISTRICT</td>\n",
       "      <td>55 WATER ST</td>\n",
       "      <td>DUNDEE</td>\n",
       "      <td>NY</td>\n",
       "      <td>14837.0</td>\n",
       "      <td>(42.5263, -76.9771)</td>\n",
       "    </tr>\n",
       "    <tr>\n",
       "      <th>8902</th>\n",
       "      <td>680801</td>\n",
       "      <td>YATES</td>\n",
       "      <td>DUNDEE CENTRAL SCHOOL DISTRICT</td>\n",
       "      <td>FINGER LAKES</td>\n",
       "      <td>2012-2014</td>\n",
       "      <td>37.0</td>\n",
       "      <td>24.0</td>\n",
       "      <td>34.0</td>\n",
       "      <td>22.1</td>\n",
       "      <td>71.0</td>\n",
       "      <td>46.1</td>\n",
       "      <td>ELEMENTARY</td>\n",
       "      <td>SCHOOL DISTRICT</td>\n",
       "      <td>55 WATER ST</td>\n",
       "      <td>DUNDEE</td>\n",
       "      <td>NY</td>\n",
       "      <td>14837.0</td>\n",
       "      <td>(42.5263, -76.9771)</td>\n",
       "    </tr>\n",
       "    <tr>\n",
       "      <th>8905</th>\n",
       "      <td>680801</td>\n",
       "      <td>YATES</td>\n",
       "      <td>DUNDEE CENTRAL SCHOOL DISTRICT</td>\n",
       "      <td>FINGER LAKES</td>\n",
       "      <td>2014-2016</td>\n",
       "      <td>20.0</td>\n",
       "      <td>16.6</td>\n",
       "      <td>26.0</td>\n",
       "      <td>21.6</td>\n",
       "      <td>46.0</td>\n",
       "      <td>38.3</td>\n",
       "      <td>ELEMENTARY</td>\n",
       "      <td>SCHOOL DISTRICT</td>\n",
       "      <td>55 WATER ST</td>\n",
       "      <td>DUNDEE</td>\n",
       "      <td>NY</td>\n",
       "      <td>14837.0</td>\n",
       "      <td>(42.5263, -76.9771)</td>\n",
       "    </tr>\n",
       "    <tr>\n",
       "      <th>8908</th>\n",
       "      <td>680801</td>\n",
       "      <td>YATES</td>\n",
       "      <td>DUNDEE CENTRAL SCHOOL DISTRICT</td>\n",
       "      <td>FINGER LAKES</td>\n",
       "      <td>2016-2018</td>\n",
       "      <td>32.0</td>\n",
       "      <td>20.6</td>\n",
       "      <td>31.0</td>\n",
       "      <td>20.0</td>\n",
       "      <td>63.0</td>\n",
       "      <td>40.6</td>\n",
       "      <td>ELEMENTARY</td>\n",
       "      <td>SCHOOL DISTRICT</td>\n",
       "      <td>55 WATER ST</td>\n",
       "      <td>DUNDEE</td>\n",
       "      <td>NY</td>\n",
       "      <td>14837.0</td>\n",
       "      <td>(42.5263, -76.9771)</td>\n",
       "    </tr>\n",
       "    <tr>\n",
       "      <th>8911</th>\n",
       "      <td>700000</td>\n",
       "      <td>NaN</td>\n",
       "      <td>WESTERN NEW YORK</td>\n",
       "      <td>WESTERN NEW YORK</td>\n",
       "      <td>2010-2012</td>\n",
       "      <td>5827.0</td>\n",
       "      <td>15.2</td>\n",
       "      <td>6587.0</td>\n",
       "      <td>17.1</td>\n",
       "      <td>12414.0</td>\n",
       "      <td>32.3</td>\n",
       "      <td>ELEMENTARY</td>\n",
       "      <td>REGION</td>\n",
       "      <td>NaN</td>\n",
       "      <td>NaN</td>\n",
       "      <td>NaN</td>\n",
       "      <td>NaN</td>\n",
       "      <td>NaN</td>\n",
       "    </tr>\n",
       "    <tr>\n",
       "      <th>8914</th>\n",
       "      <td>700000</td>\n",
       "      <td>NaN</td>\n",
       "      <td>WESTERN NEW YORK</td>\n",
       "      <td>WESTERN NEW YORK</td>\n",
       "      <td>2012-2014</td>\n",
       "      <td>6178.0</td>\n",
       "      <td>15.9</td>\n",
       "      <td>6056.0</td>\n",
       "      <td>15.6</td>\n",
       "      <td>12234.0</td>\n",
       "      <td>31.6</td>\n",
       "      <td>ELEMENTARY</td>\n",
       "      <td>REGION</td>\n",
       "      <td>NaN</td>\n",
       "      <td>NaN</td>\n",
       "      <td>NaN</td>\n",
       "      <td>NaN</td>\n",
       "      <td>NaN</td>\n",
       "    </tr>\n",
       "    <tr>\n",
       "      <th>8917</th>\n",
       "      <td>700000</td>\n",
       "      <td>NaN</td>\n",
       "      <td>WESTERN NEW YORK</td>\n",
       "      <td>WESTERN NEW YORK</td>\n",
       "      <td>2014-2016</td>\n",
       "      <td>6080.0</td>\n",
       "      <td>16.3</td>\n",
       "      <td>5712.0</td>\n",
       "      <td>15.3</td>\n",
       "      <td>11792.0</td>\n",
       "      <td>31.6</td>\n",
       "      <td>ELEMENTARY</td>\n",
       "      <td>REGION</td>\n",
       "      <td>NaN</td>\n",
       "      <td>NaN</td>\n",
       "      <td>NaN</td>\n",
       "      <td>NaN</td>\n",
       "      <td>NaN</td>\n",
       "    </tr>\n",
       "    <tr>\n",
       "      <th>8920</th>\n",
       "      <td>700000</td>\n",
       "      <td>NaN</td>\n",
       "      <td>WESTERN NEW YORK</td>\n",
       "      <td>WESTERN NEW YORK</td>\n",
       "      <td>2016-2018</td>\n",
       "      <td>6089.0</td>\n",
       "      <td>15.7</td>\n",
       "      <td>6118.0</td>\n",
       "      <td>15.8</td>\n",
       "      <td>12207.0</td>\n",
       "      <td>31.6</td>\n",
       "      <td>ELEMENTARY</td>\n",
       "      <td>REGION</td>\n",
       "      <td>NaN</td>\n",
       "      <td>NaN</td>\n",
       "      <td>NaN</td>\n",
       "      <td>NaN</td>\n",
       "      <td>NaN</td>\n",
       "    </tr>\n",
       "  </tbody>\n",
       "</table>\n",
       "<p>2974 rows × 18 columns</p>\n",
       "</div>"
      ],
      "text/plain": [
       "      LOCATION CODE                     COUNTY  \\\n",
       "1                 0  STATEWIDE (EXCLUDING NYC)   \n",
       "4                 0  STATEWIDE (EXCLUDING NYC)   \n",
       "7                 0  STATEWIDE (EXCLUDING NYC)   \n",
       "10                0  STATEWIDE (EXCLUDING NYC)   \n",
       "13                1                     ALBANY   \n",
       "16                1                     ALBANY   \n",
       "19                1                     ALBANY   \n",
       "22                1                     ALBANY   \n",
       "25                2                   ALLEGANY   \n",
       "28                2                   ALLEGANY   \n",
       "31                2                   ALLEGANY   \n",
       "34                2                   ALLEGANY   \n",
       "37                3                     BROOME   \n",
       "40                3                     BROOME   \n",
       "43                3                     BROOME   \n",
       "46                3                     BROOME   \n",
       "49                4                CATTARAUGUS   \n",
       "52                4                CATTARAUGUS   \n",
       "55                4                CATTARAUGUS   \n",
       "58                4                CATTARAUGUS   \n",
       "61                5                     CAYUGA   \n",
       "64                5                     CAYUGA   \n",
       "67                5                     CAYUGA   \n",
       "70                5                     CAYUGA   \n",
       "73                6                 CHAUTAUQUA   \n",
       "76                6                 CHAUTAUQUA   \n",
       "79                6                 CHAUTAUQUA   \n",
       "82                6                 CHAUTAUQUA   \n",
       "85                7                    CHEMUNG   \n",
       "88                7                    CHEMUNG   \n",
       "...             ...                        ...   \n",
       "8833         670201                    WYOMING   \n",
       "8836         670201                    WYOMING   \n",
       "8839         670401                    WYOMING   \n",
       "8842         670401                    WYOMING   \n",
       "8845         670401                    WYOMING   \n",
       "8848         670401                    WYOMING   \n",
       "8851         671002                    WYOMING   \n",
       "8854         671002                    WYOMING   \n",
       "8857         671002                    WYOMING   \n",
       "8860         671002                    WYOMING   \n",
       "8863         671201                    WYOMING   \n",
       "8866         671201                    WYOMING   \n",
       "8869         671201                    WYOMING   \n",
       "8872         671201                    WYOMING   \n",
       "8875         671501                    WYOMING   \n",
       "8878         671501                    WYOMING   \n",
       "8881         671501                    WYOMING   \n",
       "8884         671501                    WYOMING   \n",
       "8887         680601                      YATES   \n",
       "8890         680601                      YATES   \n",
       "8893         680601                      YATES   \n",
       "8896         680601                      YATES   \n",
       "8899         680801                      YATES   \n",
       "8902         680801                      YATES   \n",
       "8905         680801                      YATES   \n",
       "8908         680801                      YATES   \n",
       "8911         700000                        NaN   \n",
       "8914         700000                        NaN   \n",
       "8917         700000                        NaN   \n",
       "8920         700000                        NaN   \n",
       "\n",
       "                               AREA NAME                     REGION  \\\n",
       "1              STATEWIDE (EXCLUDING NYC)  STATEWIDE (EXCLUDING NYC)   \n",
       "4              STATEWIDE (EXCLUDING NYC)  STATEWIDE (EXCLUDING NYC)   \n",
       "7              STATEWIDE (EXCLUDING NYC)  STATEWIDE (EXCLUDING NYC)   \n",
       "10             STATEWIDE (EXCLUDING NYC)  STATEWIDE (EXCLUDING NYC)   \n",
       "13                                ALBANY      NORTHEASTERN NEW YORK   \n",
       "16                                ALBANY      NORTHEASTERN NEW YORK   \n",
       "19                                ALBANY      NORTHEASTERN NEW YORK   \n",
       "22                                ALBANY      NORTHEASTERN NEW YORK   \n",
       "25                              ALLEGANY           WESTERN NEW YORK   \n",
       "28                              ALLEGANY           WESTERN NEW YORK   \n",
       "31                              ALLEGANY           WESTERN NEW YORK   \n",
       "34                              ALLEGANY           WESTERN NEW YORK   \n",
       "37                                BROOME            NEW YORK - PENN   \n",
       "40                                BROOME            NEW YORK - PENN   \n",
       "43                                BROOME            NEW YORK - PENN   \n",
       "46                                BROOME            NEW YORK - PENN   \n",
       "49                           CATTARAUGUS           WESTERN NEW YORK   \n",
       "52                           CATTARAUGUS           WESTERN NEW YORK   \n",
       "55                           CATTARAUGUS           WESTERN NEW YORK   \n",
       "58                           CATTARAUGUS           WESTERN NEW YORK   \n",
       "61                                CAYUGA           CENTRAL NEW YORK   \n",
       "64                                CAYUGA           CENTRAL NEW YORK   \n",
       "67                                CAYUGA           CENTRAL NEW YORK   \n",
       "70                                CAYUGA           CENTRAL NEW YORK   \n",
       "73                            CHAUTAUQUA           WESTERN NEW YORK   \n",
       "76                            CHAUTAUQUA           WESTERN NEW YORK   \n",
       "79                            CHAUTAUQUA           WESTERN NEW YORK   \n",
       "82                            CHAUTAUQUA           WESTERN NEW YORK   \n",
       "85                               CHEMUNG               FINGER LAKES   \n",
       "88                               CHEMUNG               FINGER LAKES   \n",
       "...                                  ...                        ...   \n",
       "8833      ATTICA CENTRAL SCHOOL DISTRICT           WESTERN NEW YORK   \n",
       "8836      ATTICA CENTRAL SCHOOL DISTRICT           WESTERN NEW YORK   \n",
       "8839  LETCHWORTH CENT SCH AT GAINESVILLE           WESTERN NEW YORK   \n",
       "8842  LETCHWORTH CENT SCH AT GAINESVILLE           WESTERN NEW YORK   \n",
       "8845  LETCHWORTH CENT SCH AT GAINESVILLE           WESTERN NEW YORK   \n",
       "8848  LETCHWORTH CENT SCH AT GAINESVILLE           WESTERN NEW YORK   \n",
       "8851     WYOMING CENTRAL SCHOOL DISTRICT           WESTERN NEW YORK   \n",
       "8854     WYOMING CENTRAL SCHOOL DISTRICT           WESTERN NEW YORK   \n",
       "8857     WYOMING CENTRAL SCHOOL DISTRICT           WESTERN NEW YORK   \n",
       "8860     WYOMING CENTRAL SCHOOL DISTRICT           WESTERN NEW YORK   \n",
       "8863       PERRY CENTRAL SCHOOL DISTRICT           WESTERN NEW YORK   \n",
       "8866       PERRY CENTRAL SCHOOL DISTRICT           WESTERN NEW YORK   \n",
       "8869       PERRY CENTRAL SCHOOL DISTRICT           WESTERN NEW YORK   \n",
       "8872       PERRY CENTRAL SCHOOL DISTRICT           WESTERN NEW YORK   \n",
       "8875      WARSAW CENTRAL SCHOOL DISTRICT           WESTERN NEW YORK   \n",
       "8878      WARSAW CENTRAL SCHOOL DISTRICT           WESTERN NEW YORK   \n",
       "8881      WARSAW CENTRAL SCHOOL DISTRICT           WESTERN NEW YORK   \n",
       "8884      WARSAW CENTRAL SCHOOL DISTRICT           WESTERN NEW YORK   \n",
       "8887    PENN YAN CENTRAL SCHOOL DISTRICT               FINGER LAKES   \n",
       "8890    PENN YAN CENTRAL SCHOOL DISTRICT               FINGER LAKES   \n",
       "8893    PENN YAN CENTRAL SCHOOL DISTRICT               FINGER LAKES   \n",
       "8896    PENN YAN CENTRAL SCHOOL DISTRICT               FINGER LAKES   \n",
       "8899      DUNDEE CENTRAL SCHOOL DISTRICT               FINGER LAKES   \n",
       "8902      DUNDEE CENTRAL SCHOOL DISTRICT               FINGER LAKES   \n",
       "8905      DUNDEE CENTRAL SCHOOL DISTRICT               FINGER LAKES   \n",
       "8908      DUNDEE CENTRAL SCHOOL DISTRICT               FINGER LAKES   \n",
       "8911                    WESTERN NEW YORK           WESTERN NEW YORK   \n",
       "8914                    WESTERN NEW YORK           WESTERN NEW YORK   \n",
       "8917                    WESTERN NEW YORK           WESTERN NEW YORK   \n",
       "8920                    WESTERN NEW YORK           WESTERN NEW YORK   \n",
       "\n",
       "     SCHOOL YEARS  NO. OVERWEIGHT  PCT OVERWEIGHT  NO. OBESE  PCT OBESE  \\\n",
       "1       2010-2012         44970.0            15.8    48843.0       17.2   \n",
       "4       2012-2014         47868.0            16.4    49140.0       16.8   \n",
       "7       2014-2016         46417.0            15.9    47812.0       16.3   \n",
       "10      2016-2018         46004.0            15.7    46911.0       16.0   \n",
       "13      2010-2012           855.0            15.6      895.0       16.4   \n",
       "16      2012-2014           915.0            15.5      987.0       16.8   \n",
       "19      2014-2016           991.0            15.7     1033.0       16.3   \n",
       "22      2016-2018          1090.0            15.4     1099.0       15.5   \n",
       "25      2010-2012           247.0            15.1      217.0       13.2   \n",
       "28      2012-2014           214.0            14.4      220.0       14.8   \n",
       "31      2014-2016           226.0            15.3      176.0       11.9   \n",
       "34      2016-2018           174.0            12.8      165.0       12.1   \n",
       "37      2010-2012           860.0            16.2      881.0       16.6   \n",
       "40      2012-2014           892.0            16.7      930.0       17.4   \n",
       "43      2014-2016           804.0            15.5      818.0       15.7   \n",
       "46      2016-2018           769.0            15.8      813.0       16.7   \n",
       "49      2010-2012           575.0            18.4      565.0       18.1   \n",
       "52      2012-2014           551.0            17.2      571.0       17.8   \n",
       "55      2014-2016           515.0            16.7      520.0       16.8   \n",
       "58      2016-2018           499.0            16.6      554.0       18.5   \n",
       "61      2010-2012           368.0            16.3      495.0       21.9   \n",
       "64      2012-2014           354.0            15.0      503.0       21.3   \n",
       "67      2014-2016           335.0            16.3      379.0       18.4   \n",
       "70      2016-2018           371.0            16.6      424.0       19.0   \n",
       "73      2010-2012           668.0            15.6      723.0       16.8   \n",
       "76      2012-2014           636.0            15.6      701.0       17.2   \n",
       "79      2014-2016           629.0            16.3      689.0       17.9   \n",
       "82      2016-2018           691.0            16.4      804.0       19.1   \n",
       "85      2010-2012           312.0            18.2      320.0       18.7   \n",
       "88      2012-2014           345.0            16.3      398.0       18.8   \n",
       "...           ...             ...             ...        ...        ...   \n",
       "8833    2014-2016            24.0            12.9       24.0       12.9   \n",
       "8836    2016-2018            45.0            18.1       42.0       16.9   \n",
       "8839    2010-2012            32.0            17.7       22.0       12.2   \n",
       "8842    2012-2014            32.0            17.6       32.0       17.6   \n",
       "8845    2014-2016            34.0            19.8       29.0       16.9   \n",
       "8848    2016-2018            33.0            18.2       32.0       17.7   \n",
       "8851    2010-2012             9.0            18.8        NaN        NaN   \n",
       "8854    2012-2014             NaN             NaN        NaN        NaN   \n",
       "8857    2014-2016             NaN             NaN        NaN        NaN   \n",
       "8860    2016-2018             NaN             NaN        NaN        NaN   \n",
       "8863    2010-2012            35.0            18.1       49.0       25.4   \n",
       "8866    2012-2014            29.0            20.9       24.0       17.3   \n",
       "8869    2014-2016            26.0            14.6       20.0       11.2   \n",
       "8872    2016-2018            33.0            15.6       39.0       18.5   \n",
       "8875    2010-2012            45.0            21.7       45.0       21.7   \n",
       "8878    2012-2014            29.0            13.9       35.0       16.8   \n",
       "8881    2014-2016            33.0            16.4       23.0       11.4   \n",
       "8884    2016-2018            36.0            17.8       35.0       17.3   \n",
       "8887    2010-2012            45.0            18.2       48.0       19.4   \n",
       "8890    2012-2014            32.0            12.3       58.0       22.3   \n",
       "8893    2014-2016            46.0            15.4       68.0       22.8   \n",
       "8896    2016-2018            60.0            16.3       70.0       19.1   \n",
       "8899    2010-2012            28.0            15.6       20.0       11.1   \n",
       "8902    2012-2014            37.0            24.0       34.0       22.1   \n",
       "8905    2014-2016            20.0            16.6       26.0       21.6   \n",
       "8908    2016-2018            32.0            20.6       31.0       20.0   \n",
       "8911    2010-2012          5827.0            15.2     6587.0       17.1   \n",
       "8914    2012-2014          6178.0            15.9     6056.0       15.6   \n",
       "8917    2014-2016          6080.0            16.3     5712.0       15.3   \n",
       "8920    2016-2018          6089.0            15.7     6118.0       15.8   \n",
       "\n",
       "      NO. OVERWEIGHT OR OBESE  PCT OVERWEIGHT OR OBESE GRADE LEVEL  \\\n",
       "1                     93813.0                     33.0  ELEMENTARY   \n",
       "4                     97008.0                     33.1  ELEMENTARY   \n",
       "7                     94229.0                     32.2  ELEMENTARY   \n",
       "10                    92915.0                     31.8  ELEMENTARY   \n",
       "13                     1750.0                     32.0  ELEMENTARY   \n",
       "16                     1902.0                     32.3  ELEMENTARY   \n",
       "19                     2024.0                     32.1  ELEMENTARY   \n",
       "22                     2189.0                     30.9  ELEMENTARY   \n",
       "25                      464.0                     28.3  ELEMENTARY   \n",
       "28                      434.0                     29.1  ELEMENTARY   \n",
       "31                      402.0                     27.2  ELEMENTARY   \n",
       "34                      339.0                     24.9  ELEMENTARY   \n",
       "37                     1741.0                     32.9  ELEMENTARY   \n",
       "40                     1822.0                     34.2  ELEMENTARY   \n",
       "43                     1622.0                     31.3  ELEMENTARY   \n",
       "46                     1582.0                     32.4  ELEMENTARY   \n",
       "49                     1140.0                     36.5  ELEMENTARY   \n",
       "52                     1122.0                     35.0  ELEMENTARY   \n",
       "55                     1035.0                     33.5  ELEMENTARY   \n",
       "58                     1053.0                     35.1  ELEMENTARY   \n",
       "61                      863.0                     38.2  ELEMENTARY   \n",
       "64                      857.0                     36.4  ELEMENTARY   \n",
       "67                      714.0                     34.7  ELEMENTARY   \n",
       "70                      795.0                     35.6  ELEMENTARY   \n",
       "73                     1391.0                     32.4  ELEMENTARY   \n",
       "76                     1337.0                     32.7  ELEMENTARY   \n",
       "79                     1318.0                     34.3  ELEMENTARY   \n",
       "82                     1495.0                     35.5  ELEMENTARY   \n",
       "85                      632.0                     36.9  ELEMENTARY   \n",
       "88                      743.0                     35.2  ELEMENTARY   \n",
       "...                       ...                      ...         ...   \n",
       "8833                     48.0                     25.8  ELEMENTARY   \n",
       "8836                     87.0                     34.9  ELEMENTARY   \n",
       "8839                     54.0                     29.8  ELEMENTARY   \n",
       "8842                     64.0                     35.2  ELEMENTARY   \n",
       "8845                     63.0                     36.8  ELEMENTARY   \n",
       "8848                     65.0                     35.9  ELEMENTARY   \n",
       "8851                      9.0                     18.8  ELEMENTARY   \n",
       "8854                      NaN                      NaN  ELEMENTARY   \n",
       "8857                      NaN                      NaN  ELEMENTARY   \n",
       "8860                      NaN                      NaN  ELEMENTARY   \n",
       "8863                     84.0                     43.5  ELEMENTARY   \n",
       "8866                     53.0                     38.1  ELEMENTARY   \n",
       "8869                     46.0                     25.8  ELEMENTARY   \n",
       "8872                     72.0                     34.1  ELEMENTARY   \n",
       "8875                     90.0                     43.5  ELEMENTARY   \n",
       "8878                     64.0                     30.8  ELEMENTARY   \n",
       "8881                     56.0                     27.8  ELEMENTARY   \n",
       "8884                     71.0                     35.1  ELEMENTARY   \n",
       "8887                     93.0                     37.7  ELEMENTARY   \n",
       "8890                     90.0                     34.6  ELEMENTARY   \n",
       "8893                    114.0                     38.3  ELEMENTARY   \n",
       "8896                    130.0                     35.4  ELEMENTARY   \n",
       "8899                     48.0                     26.7  ELEMENTARY   \n",
       "8902                     71.0                     46.1  ELEMENTARY   \n",
       "8905                     46.0                     38.3  ELEMENTARY   \n",
       "8908                     63.0                     40.6  ELEMENTARY   \n",
       "8911                  12414.0                     32.3  ELEMENTARY   \n",
       "8914                  12234.0                     31.6  ELEMENTARY   \n",
       "8917                  11792.0                     31.6  ELEMENTARY   \n",
       "8920                  12207.0                     31.6  ELEMENTARY   \n",
       "\n",
       "                      AREA TYPE    STREET ADDRESS         CITY STATE  \\\n",
       "1     STATEWIDE (EXCLUDING NYC)               NaN          NaN   NaN   \n",
       "4     STATEWIDE (EXCLUDING NYC)               NaN          NaN   NaN   \n",
       "7     STATEWIDE (EXCLUDING NYC)               NaN          NaN   NaN   \n",
       "10    STATEWIDE (EXCLUDING NYC)               NaN          NaN   NaN   \n",
       "13                       COUNTY               NaN          NaN   NaN   \n",
       "16                       COUNTY               NaN          NaN   NaN   \n",
       "19                       COUNTY               NaN          NaN   NaN   \n",
       "22                       COUNTY               NaN          NaN   NaN   \n",
       "25                       COUNTY               NaN          NaN   NaN   \n",
       "28                       COUNTY               NaN          NaN   NaN   \n",
       "31                       COUNTY               NaN          NaN   NaN   \n",
       "34                       COUNTY               NaN          NaN   NaN   \n",
       "37                       COUNTY               NaN          NaN   NaN   \n",
       "40                       COUNTY               NaN          NaN   NaN   \n",
       "43                       COUNTY               NaN          NaN   NaN   \n",
       "46                       COUNTY               NaN          NaN   NaN   \n",
       "49                       COUNTY               NaN          NaN   NaN   \n",
       "52                       COUNTY               NaN          NaN   NaN   \n",
       "55                       COUNTY               NaN          NaN   NaN   \n",
       "58                       COUNTY               NaN          NaN   NaN   \n",
       "61                       COUNTY               NaN          NaN   NaN   \n",
       "64                       COUNTY               NaN          NaN   NaN   \n",
       "67                       COUNTY               NaN          NaN   NaN   \n",
       "70                       COUNTY               NaN          NaN   NaN   \n",
       "73                       COUNTY               NaN          NaN   NaN   \n",
       "76                       COUNTY               NaN          NaN   NaN   \n",
       "79                       COUNTY               NaN          NaN   NaN   \n",
       "82                       COUNTY               NaN          NaN   NaN   \n",
       "85                       COUNTY               NaN          NaN   NaN   \n",
       "88                       COUNTY               NaN          NaN   NaN   \n",
       "...                         ...               ...          ...   ...   \n",
       "8833            SCHOOL DISTRICT    3338 E MAIN ST       ATTICA    NY   \n",
       "8836            SCHOOL DISTRICT    3338 E MAIN ST       ATTICA    NY   \n",
       "8839            SCHOOL DISTRICT    5550 SCHOOL RD  GAINESVILLE    NY   \n",
       "8842            SCHOOL DISTRICT    5550 SCHOOL RD  GAINESVILLE    NY   \n",
       "8845            SCHOOL DISTRICT    5550 SCHOOL RD  GAINESVILLE    NY   \n",
       "8848            SCHOOL DISTRICT    5550 SCHOOL RD  GAINESVILLE    NY   \n",
       "8851            SCHOOL DISTRICT        1225 RT 19      WYOMING    NY   \n",
       "8854            SCHOOL DISTRICT        1225 RT 19      WYOMING    NY   \n",
       "8857            SCHOOL DISTRICT        1225 RT 19      WYOMING    NY   \n",
       "8860            SCHOOL DISTRICT        1225 RT 19      WYOMING    NY   \n",
       "8863            SCHOOL DISTRICT    33 WATKINS AVE        PERRY    NY   \n",
       "8866            SCHOOL DISTRICT    33 WATKINS AVE        PERRY    NY   \n",
       "8869            SCHOOL DISTRICT    33 WATKINS AVE        PERRY    NY   \n",
       "8872            SCHOOL DISTRICT    33 WATKINS AVE        PERRY    NY   \n",
       "8875            SCHOOL DISTRICT  153 W BUFFALO ST       WARSAW    NY   \n",
       "8878            SCHOOL DISTRICT  153 W BUFFALO ST       WARSAW    NY   \n",
       "8881            SCHOOL DISTRICT  153 W BUFFALO ST       WARSAW    NY   \n",
       "8884            SCHOOL DISTRICT  153 W BUFFALO ST       WARSAW    NY   \n",
       "8887            SCHOOL DISTRICT       1 SCHOOL DR     PENN YAN    NY   \n",
       "8890            SCHOOL DISTRICT       1 SCHOOL DR     PENN YAN    NY   \n",
       "8893            SCHOOL DISTRICT       1 SCHOOL DR     PENN YAN    NY   \n",
       "8896            SCHOOL DISTRICT       1 SCHOOL DR     PENN YAN    NY   \n",
       "8899            SCHOOL DISTRICT       55 WATER ST       DUNDEE    NY   \n",
       "8902            SCHOOL DISTRICT       55 WATER ST       DUNDEE    NY   \n",
       "8905            SCHOOL DISTRICT       55 WATER ST       DUNDEE    NY   \n",
       "8908            SCHOOL DISTRICT       55 WATER ST       DUNDEE    NY   \n",
       "8911                     REGION               NaN          NaN   NaN   \n",
       "8914                     REGION               NaN          NaN   NaN   \n",
       "8917                     REGION               NaN          NaN   NaN   \n",
       "8920                     REGION               NaN          NaN   NaN   \n",
       "\n",
       "      ZIP CODE           Location 1  \n",
       "1          NaN                  NaN  \n",
       "4          NaN                  NaN  \n",
       "7          NaN                  NaN  \n",
       "10         NaN                  NaN  \n",
       "13         NaN                  NaN  \n",
       "16         NaN                  NaN  \n",
       "19         NaN                  NaN  \n",
       "22         NaN                  NaN  \n",
       "25         NaN                  NaN  \n",
       "28         NaN                  NaN  \n",
       "31         NaN                  NaN  \n",
       "34         NaN                  NaN  \n",
       "37         NaN                  NaN  \n",
       "40         NaN                  NaN  \n",
       "43         NaN                  NaN  \n",
       "46         NaN                  NaN  \n",
       "49         NaN                  NaN  \n",
       "52         NaN                  NaN  \n",
       "55         NaN                  NaN  \n",
       "58         NaN                  NaN  \n",
       "61         NaN                  NaN  \n",
       "64         NaN                  NaN  \n",
       "67         NaN                  NaN  \n",
       "70         NaN                  NaN  \n",
       "73         NaN                  NaN  \n",
       "76         NaN                  NaN  \n",
       "79         NaN                  NaN  \n",
       "82         NaN                  NaN  \n",
       "85         NaN                  NaN  \n",
       "88         NaN                  NaN  \n",
       "...        ...                  ...  \n",
       "8833   14011.0  (42.8618, -78.2603)  \n",
       "8836   14011.0  (42.8618, -78.2603)  \n",
       "8839   14066.0  (42.6301, -78.1154)  \n",
       "8842   14066.0  (42.6301, -78.1154)  \n",
       "8845   14066.0  (42.6301, -78.1154)  \n",
       "8848   14066.0  (42.6301, -78.1154)  \n",
       "8851   14591.0  (42.8213, -78.0944)  \n",
       "8854   14591.0  (42.8213, -78.0944)  \n",
       "8857   14591.0  (42.8213, -78.0944)  \n",
       "8860   14591.0  (42.8213, -78.0944)  \n",
       "8863   14530.0   (42.7236, -78.003)  \n",
       "8866   14530.0   (42.7236, -78.003)  \n",
       "8869   14530.0   (42.7236, -78.003)  \n",
       "8872   14530.0   (42.7236, -78.003)  \n",
       "8875   14569.0  (42.7403, -78.1382)  \n",
       "8878   14569.0  (42.7403, -78.1382)  \n",
       "8881   14569.0  (42.7403, -78.1382)  \n",
       "8884   14569.0  (42.7403, -78.1382)  \n",
       "8887   14527.0   (42.6671, -77.063)  \n",
       "8890   14527.0   (42.6671, -77.063)  \n",
       "8893   14527.0   (42.6671, -77.063)  \n",
       "8896   14527.0   (42.6671, -77.063)  \n",
       "8899   14837.0  (42.5263, -76.9771)  \n",
       "8902   14837.0  (42.5263, -76.9771)  \n",
       "8905   14837.0  (42.5263, -76.9771)  \n",
       "8908   14837.0  (42.5263, -76.9771)  \n",
       "8911       NaN                  NaN  \n",
       "8914       NaN                  NaN  \n",
       "8917       NaN                  NaN  \n",
       "8920       NaN                  NaN  \n",
       "\n",
       "[2974 rows x 18 columns]"
      ]
     },
     "execution_count": 89,
     "metadata": {},
     "output_type": "execute_result"
    }
   ],
   "source": [
    "df[df['GRADE LEVEL']=='ELEMENTARY']"
   ]
  },
  {
   "cell_type": "markdown",
   "metadata": {},
   "source": [
    "#### Uppercase"
   ]
  },
  {
   "cell_type": "markdown",
   "metadata": {},
   "source": [
    "To convert the area name to uppercase, we'll use the\n",
    "following command:"
   ]
  },
  {
   "cell_type": "code",
   "execution_count": 90,
   "metadata": {},
   "outputs": [
    {
     "data": {
      "text/plain": [
       "0    STATEWIDE (EXCLUDING NYC)\n",
       "1    STATEWIDE (EXCLUDING NYC)\n",
       "2    STATEWIDE (EXCLUDING NYC)\n",
       "3    STATEWIDE (EXCLUDING NYC)\n",
       "4    STATEWIDE (EXCLUDING NYC)\n",
       "Name: AREA NAME, dtype: object"
      ]
     },
     "execution_count": 90,
     "metadata": {},
     "output_type": "execute_result"
    }
   ],
   "source": [
    "df['AREA NAME'][0:5].str.upper()"
   ]
  },
  {
   "cell_type": "markdown",
   "metadata": {},
   "source": [
    "Since the data strings are in uppercase already, there won't be any\n",
    "difference seen."
   ]
  },
  {
   "cell_type": "markdown",
   "metadata": {},
   "source": [
    "#### Lowercase"
   ]
  },
  {
   "cell_type": "markdown",
   "metadata": {},
   "source": [
    "To convert Area Name to lowercase, we'll use the\n",
    "following command:"
   ]
  },
  {
   "cell_type": "code",
   "execution_count": 91,
   "metadata": {},
   "outputs": [
    {
     "data": {
      "text/plain": [
       "0    statewide (excluding nyc)\n",
       "1    statewide (excluding nyc)\n",
       "2    statewide (excluding nyc)\n",
       "3    statewide (excluding nyc)\n",
       "4    statewide (excluding nyc)\n",
       "Name: AREA NAME, dtype: object"
      ]
     },
     "execution_count": 91,
     "metadata": {},
     "output_type": "execute_result"
    }
   ],
   "source": [
    "df['AREA NAME'][0:5].str.lower()"
   ]
  },
  {
   "cell_type": "markdown",
   "metadata": {},
   "source": [
    "#### Length:"
   ]
  },
  {
   "cell_type": "markdown",
   "metadata": {},
   "source": [
    "To find the length of each element of the Area Name column, we'll\n",
    "use the following command:"
   ]
  },
  {
   "cell_type": "code",
   "execution_count": 92,
   "metadata": {},
   "outputs": [
    {
     "data": {
      "text/plain": [
       "0    25\n",
       "1    25\n",
       "2    25\n",
       "3    25\n",
       "4    25\n",
       "Name: AREA NAME, dtype: int64"
      ]
     },
     "execution_count": 92,
     "metadata": {},
     "output_type": "execute_result"
    }
   ],
   "source": [
    "df['AREA NAME'][0:5].str.len()"
   ]
  },
  {
   "cell_type": "markdown",
   "metadata": {},
   "source": [
    "#### Split"
   ]
  },
  {
   "cell_type": "markdown",
   "metadata": {},
   "source": [
    "To split Area Name based on a whitespace, we'll use the following command:"
   ]
  },
  {
   "cell_type": "code",
   "execution_count": 93,
   "metadata": {},
   "outputs": [
    {
     "data": {
      "text/plain": [
       "0    [STATEWIDE, (EXCLUDING, NYC)]\n",
       "1    [STATEWIDE, (EXCLUDING, NYC)]\n",
       "2    [STATEWIDE, (EXCLUDING, NYC)]\n",
       "3    [STATEWIDE, (EXCLUDING, NYC)]\n",
       "4    [STATEWIDE, (EXCLUDING, NYC)]\n",
       "Name: AREA NAME, dtype: object"
      ]
     },
     "execution_count": 93,
     "metadata": {},
     "output_type": "execute_result"
    }
   ],
   "source": [
    "df['AREA NAME'][0:5].str.split(' ')"
   ]
  },
  {
   "cell_type": "code",
   "execution_count": 94,
   "metadata": {},
   "outputs": [
    {
     "data": {
      "text/plain": [
       "0    STATEWIDE (EXCLUDING NYC)\n",
       "1    STATEWIDE (EXCLUDING NYC)\n",
       "2    STATEWIDE (EXCLUDING NYC)\n",
       "3    STATEWIDE (EXCLUDING NYC)\n",
       "4    STATEWIDE (EXCLUDING NYC)\n",
       "Name: AREA NAME, dtype: object"
      ]
     },
     "execution_count": 94,
     "metadata": {},
     "output_type": "execute_result"
    }
   ],
   "source": [
    "df['AREA NAME'][0:5]"
   ]
  },
  {
   "cell_type": "markdown",
   "metadata": {},
   "source": [
    "#### Replace"
   ]
  },
  {
   "cell_type": "markdown",
   "metadata": {},
   "source": [
    "If we want to replace all the area names ending with DISTRICT to\n",
    "DIST, then the following command can be used:"
   ]
  },
  {
   "cell_type": "code",
   "execution_count": 100,
   "metadata": {},
   "outputs": [
    {
     "data": {
      "text/plain": [
       "0    STATEWIDE (EXCLUDING NYC)\n",
       "1    STATEWIDE (EXCLUDING NYC)\n",
       "2    STATEWIDE (EXCLUDING NYC)\n",
       "3    STATEWIDE (EXCLUDING NYC)\n",
       "4    STATEWIDE (EXCLUDING NYC)\n",
       "5    STATEWIDE (EXCLUDING NYC)\n",
       "6    STATEWIDE (EXCLUDING NYC)\n",
       "7    STATEWIDE (EXCLUDING NYC)\n",
       "8    STATEWIDE (EXCLUDING NYC)\n",
       "9    STATEWIDE (EXCLUDING NYC)\n",
       "Name: AREA NAME, dtype: object"
      ]
     },
     "execution_count": 100,
     "metadata": {},
     "output_type": "execute_result"
    }
   ],
   "source": [
    "df['AREA NAME'][0:10].str.replace('NYC$', 'new york baby')"
   ]
  },
  {
   "cell_type": "markdown",
   "metadata": {},
   "source": [
    "Replace method:\n",
    "    1st argument - regular expression used to identify the portion of the string to replace\n",
    "    2nd arg: value for it to be replaced with"
   ]
  },
  {
   "cell_type": "markdown",
   "metadata": {},
   "source": [
    "\n",
    "## Merging data"
   ]
  },
  {
   "cell_type": "markdown",
   "metadata": {},
   "source": [
    "To combine datasets together, the concat function of pandas can be utilized.\n",
    "Let's take the Area Name and the County columns with its first five rows:"
   ]
  },
  {
   "cell_type": "code",
   "execution_count": 109,
   "metadata": {},
   "outputs": [
    {
     "data": {
      "text/html": [
       "<div>\n",
       "<style scoped>\n",
       "    .dataframe tbody tr th:only-of-type {\n",
       "        vertical-align: middle;\n",
       "    }\n",
       "\n",
       "    .dataframe tbody tr th {\n",
       "        vertical-align: top;\n",
       "    }\n",
       "\n",
       "    .dataframe thead th {\n",
       "        text-align: right;\n",
       "    }\n",
       "</style>\n",
       "<table border=\"1\" class=\"dataframe\">\n",
       "  <thead>\n",
       "    <tr style=\"text-align: right;\">\n",
       "      <th></th>\n",
       "      <th>LOCATION CODE</th>\n",
       "      <th>COUNTY</th>\n",
       "      <th>AREA NAME</th>\n",
       "      <th>REGION</th>\n",
       "      <th>SCHOOL YEARS</th>\n",
       "      <th>NO. OVERWEIGHT</th>\n",
       "      <th>PCT OVERWEIGHT</th>\n",
       "      <th>NO. OBESE</th>\n",
       "      <th>PCT OBESE</th>\n",
       "      <th>NO. OVERWEIGHT OR OBESE</th>\n",
       "      <th>PCT OVERWEIGHT OR OBESE</th>\n",
       "      <th>GRADE LEVEL</th>\n",
       "      <th>AREA TYPE</th>\n",
       "      <th>STREET ADDRESS</th>\n",
       "      <th>CITY</th>\n",
       "      <th>STATE</th>\n",
       "      <th>ZIP CODE</th>\n",
       "      <th>Location 1</th>\n",
       "    </tr>\n",
       "  </thead>\n",
       "  <tbody>\n",
       "    <tr>\n",
       "      <th>0</th>\n",
       "      <td>0</td>\n",
       "      <td>STATEWIDE (EXCLUDING NYC)</td>\n",
       "      <td>STATEWIDE (EXCLUDING NYC)</td>\n",
       "      <td>STATEWIDE (EXCLUDING NYC)</td>\n",
       "      <td>2010-2012</td>\n",
       "      <td>77813.0</td>\n",
       "      <td>16.2</td>\n",
       "      <td>84578.0</td>\n",
       "      <td>17.6</td>\n",
       "      <td>162391.0</td>\n",
       "      <td>33.7</td>\n",
       "      <td>DISTRICT TOTAL</td>\n",
       "      <td>STATEWIDE (EXCLUDING NYC)</td>\n",
       "      <td>NaN</td>\n",
       "      <td>NaN</td>\n",
       "      <td>NaN</td>\n",
       "      <td>NaN</td>\n",
       "      <td>NaN</td>\n",
       "    </tr>\n",
       "    <tr>\n",
       "      <th>1</th>\n",
       "      <td>0</td>\n",
       "      <td>STATEWIDE (EXCLUDING NYC)</td>\n",
       "      <td>STATEWIDE (EXCLUDING NYC)</td>\n",
       "      <td>STATEWIDE (EXCLUDING NYC)</td>\n",
       "      <td>2010-2012</td>\n",
       "      <td>44970.0</td>\n",
       "      <td>15.8</td>\n",
       "      <td>48843.0</td>\n",
       "      <td>17.2</td>\n",
       "      <td>93813.0</td>\n",
       "      <td>33.0</td>\n",
       "      <td>ELEMENTARY</td>\n",
       "      <td>STATEWIDE (EXCLUDING NYC)</td>\n",
       "      <td>NaN</td>\n",
       "      <td>NaN</td>\n",
       "      <td>NaN</td>\n",
       "      <td>NaN</td>\n",
       "      <td>NaN</td>\n",
       "    </tr>\n",
       "    <tr>\n",
       "      <th>2</th>\n",
       "      <td>0</td>\n",
       "      <td>STATEWIDE (EXCLUDING NYC)</td>\n",
       "      <td>STATEWIDE (EXCLUDING NYC)</td>\n",
       "      <td>STATEWIDE (EXCLUDING NYC)</td>\n",
       "      <td>2010-2012</td>\n",
       "      <td>33004.0</td>\n",
       "      <td>16.8</td>\n",
       "      <td>35719.0</td>\n",
       "      <td>18.2</td>\n",
       "      <td>68723.0</td>\n",
       "      <td>35.0</td>\n",
       "      <td>MIDDLE/HIGH</td>\n",
       "      <td>STATEWIDE (EXCLUDING NYC)</td>\n",
       "      <td>NaN</td>\n",
       "      <td>NaN</td>\n",
       "      <td>NaN</td>\n",
       "      <td>NaN</td>\n",
       "      <td>NaN</td>\n",
       "    </tr>\n",
       "    <tr>\n",
       "      <th>3</th>\n",
       "      <td>0</td>\n",
       "      <td>STATEWIDE (EXCLUDING NYC)</td>\n",
       "      <td>STATEWIDE (EXCLUDING NYC)</td>\n",
       "      <td>STATEWIDE (EXCLUDING NYC)</td>\n",
       "      <td>2012-2014</td>\n",
       "      <td>83095.0</td>\n",
       "      <td>16.7</td>\n",
       "      <td>86016.0</td>\n",
       "      <td>17.3</td>\n",
       "      <td>169111.0</td>\n",
       "      <td>33.9</td>\n",
       "      <td>DISTRICT TOTAL</td>\n",
       "      <td>STATEWIDE (EXCLUDING NYC)</td>\n",
       "      <td>NaN</td>\n",
       "      <td>NaN</td>\n",
       "      <td>NaN</td>\n",
       "      <td>NaN</td>\n",
       "      <td>NaN</td>\n",
       "    </tr>\n",
       "    <tr>\n",
       "      <th>4</th>\n",
       "      <td>0</td>\n",
       "      <td>STATEWIDE (EXCLUDING NYC)</td>\n",
       "      <td>STATEWIDE (EXCLUDING NYC)</td>\n",
       "      <td>STATEWIDE (EXCLUDING NYC)</td>\n",
       "      <td>2012-2014</td>\n",
       "      <td>47868.0</td>\n",
       "      <td>16.4</td>\n",
       "      <td>49140.0</td>\n",
       "      <td>16.8</td>\n",
       "      <td>97008.0</td>\n",
       "      <td>33.1</td>\n",
       "      <td>ELEMENTARY</td>\n",
       "      <td>STATEWIDE (EXCLUDING NYC)</td>\n",
       "      <td>NaN</td>\n",
       "      <td>NaN</td>\n",
       "      <td>NaN</td>\n",
       "      <td>NaN</td>\n",
       "      <td>NaN</td>\n",
       "    </tr>\n",
       "  </tbody>\n",
       "</table>\n",
       "</div>"
      ],
      "text/plain": [
       "   LOCATION CODE                     COUNTY                  AREA NAME  \\\n",
       "0              0  STATEWIDE (EXCLUDING NYC)  STATEWIDE (EXCLUDING NYC)   \n",
       "1              0  STATEWIDE (EXCLUDING NYC)  STATEWIDE (EXCLUDING NYC)   \n",
       "2              0  STATEWIDE (EXCLUDING NYC)  STATEWIDE (EXCLUDING NYC)   \n",
       "3              0  STATEWIDE (EXCLUDING NYC)  STATEWIDE (EXCLUDING NYC)   \n",
       "4              0  STATEWIDE (EXCLUDING NYC)  STATEWIDE (EXCLUDING NYC)   \n",
       "\n",
       "                      REGION SCHOOL YEARS  NO. OVERWEIGHT  PCT OVERWEIGHT  \\\n",
       "0  STATEWIDE (EXCLUDING NYC)    2010-2012         77813.0            16.2   \n",
       "1  STATEWIDE (EXCLUDING NYC)    2010-2012         44970.0            15.8   \n",
       "2  STATEWIDE (EXCLUDING NYC)    2010-2012         33004.0            16.8   \n",
       "3  STATEWIDE (EXCLUDING NYC)    2012-2014         83095.0            16.7   \n",
       "4  STATEWIDE (EXCLUDING NYC)    2012-2014         47868.0            16.4   \n",
       "\n",
       "   NO. OBESE  PCT OBESE  NO. OVERWEIGHT OR OBESE  PCT OVERWEIGHT OR OBESE  \\\n",
       "0    84578.0       17.6                 162391.0                     33.7   \n",
       "1    48843.0       17.2                  93813.0                     33.0   \n",
       "2    35719.0       18.2                  68723.0                     35.0   \n",
       "3    86016.0       17.3                 169111.0                     33.9   \n",
       "4    49140.0       16.8                  97008.0                     33.1   \n",
       "\n",
       "      GRADE LEVEL                  AREA TYPE STREET ADDRESS CITY STATE  \\\n",
       "0  DISTRICT TOTAL  STATEWIDE (EXCLUDING NYC)            NaN  NaN   NaN   \n",
       "1      ELEMENTARY  STATEWIDE (EXCLUDING NYC)            NaN  NaN   NaN   \n",
       "2     MIDDLE/HIGH  STATEWIDE (EXCLUDING NYC)            NaN  NaN   NaN   \n",
       "3  DISTRICT TOTAL  STATEWIDE (EXCLUDING NYC)            NaN  NaN   NaN   \n",
       "4      ELEMENTARY  STATEWIDE (EXCLUDING NYC)            NaN  NaN   NaN   \n",
       "\n",
       "   ZIP CODE Location 1  \n",
       "0       NaN        NaN  \n",
       "1       NaN        NaN  \n",
       "2       NaN        NaN  \n",
       "3       NaN        NaN  \n",
       "4       NaN        NaN  "
      ]
     },
     "execution_count": 109,
     "metadata": {},
     "output_type": "execute_result"
    }
   ],
   "source": [
    "df.head()"
   ]
  },
  {
   "cell_type": "code",
   "execution_count": 110,
   "metadata": {},
   "outputs": [
    {
     "data": {
      "text/html": [
       "<div>\n",
       "<style scoped>\n",
       "    .dataframe tbody tr th:only-of-type {\n",
       "        vertical-align: middle;\n",
       "    }\n",
       "\n",
       "    .dataframe tbody tr th {\n",
       "        vertical-align: top;\n",
       "    }\n",
       "\n",
       "    .dataframe thead th {\n",
       "        text-align: right;\n",
       "    }\n",
       "</style>\n",
       "<table border=\"1\" class=\"dataframe\">\n",
       "  <thead>\n",
       "    <tr style=\"text-align: right;\">\n",
       "      <th></th>\n",
       "      <th>AREA NAME</th>\n",
       "      <th>COUNTY</th>\n",
       "    </tr>\n",
       "  </thead>\n",
       "  <tbody>\n",
       "    <tr>\n",
       "      <th>0</th>\n",
       "      <td>STATEWIDE (EXCLUDING NYC)</td>\n",
       "      <td>STATEWIDE (EXCLUDING NYC)</td>\n",
       "    </tr>\n",
       "    <tr>\n",
       "      <th>1</th>\n",
       "      <td>STATEWIDE (EXCLUDING NYC)</td>\n",
       "      <td>STATEWIDE (EXCLUDING NYC)</td>\n",
       "    </tr>\n",
       "    <tr>\n",
       "      <th>2</th>\n",
       "      <td>STATEWIDE (EXCLUDING NYC)</td>\n",
       "      <td>STATEWIDE (EXCLUDING NYC)</td>\n",
       "    </tr>\n",
       "    <tr>\n",
       "      <th>3</th>\n",
       "      <td>STATEWIDE (EXCLUDING NYC)</td>\n",
       "      <td>STATEWIDE (EXCLUDING NYC)</td>\n",
       "    </tr>\n",
       "    <tr>\n",
       "      <th>4</th>\n",
       "      <td>STATEWIDE (EXCLUDING NYC)</td>\n",
       "      <td>STATEWIDE (EXCLUDING NYC)</td>\n",
       "    </tr>\n",
       "  </tbody>\n",
       "</table>\n",
       "</div>"
      ],
      "text/plain": [
       "                   AREA NAME                     COUNTY\n",
       "0  STATEWIDE (EXCLUDING NYC)  STATEWIDE (EXCLUDING NYC)\n",
       "1  STATEWIDE (EXCLUDING NYC)  STATEWIDE (EXCLUDING NYC)\n",
       "2  STATEWIDE (EXCLUDING NYC)  STATEWIDE (EXCLUDING NYC)\n",
       "3  STATEWIDE (EXCLUDING NYC)  STATEWIDE (EXCLUDING NYC)\n",
       "4  STATEWIDE (EXCLUDING NYC)  STATEWIDE (EXCLUDING NYC)"
      ]
     },
     "execution_count": 110,
     "metadata": {},
     "output_type": "execute_result"
    }
   ],
   "source": [
    "df[['AREA NAME', 'COUNTY']][0:5]"
   ]
  },
  {
   "cell_type": "code",
   "execution_count": 112,
   "metadata": {},
   "outputs": [],
   "source": [
    "p1 = df[['AREA NAME', 'COUNTY']][0:2]\n",
    "p2 = df[['AREA NAME', 'COUNTY']][2:5]"
   ]
  },
  {
   "cell_type": "markdown",
   "metadata": {},
   "source": [
    "The first two rows of the data are in p1 and the last three rows are in p2. These pieces\n",
    "can be combined using the concat() function:"
   ]
  },
  {
   "cell_type": "code",
   "execution_count": 113,
   "metadata": {},
   "outputs": [
    {
     "data": {
      "text/html": [
       "<div>\n",
       "<style scoped>\n",
       "    .dataframe tbody tr th:only-of-type {\n",
       "        vertical-align: middle;\n",
       "    }\n",
       "\n",
       "    .dataframe tbody tr th {\n",
       "        vertical-align: top;\n",
       "    }\n",
       "\n",
       "    .dataframe thead th {\n",
       "        text-align: right;\n",
       "    }\n",
       "</style>\n",
       "<table border=\"1\" class=\"dataframe\">\n",
       "  <thead>\n",
       "    <tr style=\"text-align: right;\">\n",
       "      <th></th>\n",
       "      <th>AREA NAME</th>\n",
       "      <th>COUNTY</th>\n",
       "    </tr>\n",
       "  </thead>\n",
       "  <tbody>\n",
       "    <tr>\n",
       "      <th>0</th>\n",
       "      <td>STATEWIDE (EXCLUDING NYC)</td>\n",
       "      <td>STATEWIDE (EXCLUDING NYC)</td>\n",
       "    </tr>\n",
       "    <tr>\n",
       "      <th>1</th>\n",
       "      <td>STATEWIDE (EXCLUDING NYC)</td>\n",
       "      <td>STATEWIDE (EXCLUDING NYC)</td>\n",
       "    </tr>\n",
       "    <tr>\n",
       "      <th>2</th>\n",
       "      <td>STATEWIDE (EXCLUDING NYC)</td>\n",
       "      <td>STATEWIDE (EXCLUDING NYC)</td>\n",
       "    </tr>\n",
       "    <tr>\n",
       "      <th>3</th>\n",
       "      <td>STATEWIDE (EXCLUDING NYC)</td>\n",
       "      <td>STATEWIDE (EXCLUDING NYC)</td>\n",
       "    </tr>\n",
       "    <tr>\n",
       "      <th>4</th>\n",
       "      <td>STATEWIDE (EXCLUDING NYC)</td>\n",
       "      <td>STATEWIDE (EXCLUDING NYC)</td>\n",
       "    </tr>\n",
       "  </tbody>\n",
       "</table>\n",
       "</div>"
      ],
      "text/plain": [
       "                   AREA NAME                     COUNTY\n",
       "0  STATEWIDE (EXCLUDING NYC)  STATEWIDE (EXCLUDING NYC)\n",
       "1  STATEWIDE (EXCLUDING NYC)  STATEWIDE (EXCLUDING NYC)\n",
       "2  STATEWIDE (EXCLUDING NYC)  STATEWIDE (EXCLUDING NYC)\n",
       "3  STATEWIDE (EXCLUDING NYC)  STATEWIDE (EXCLUDING NYC)\n",
       "4  STATEWIDE (EXCLUDING NYC)  STATEWIDE (EXCLUDING NYC)"
      ]
     },
     "execution_count": 113,
     "metadata": {},
     "output_type": "execute_result"
    }
   ],
   "source": [
    "pd.concat([p1,p2])"
   ]
  },
  {
   "cell_type": "markdown",
   "metadata": {},
   "source": [
    "The combined pieces can be identified by assigning a key:"
   ]
  },
  {
   "cell_type": "code",
   "execution_count": 114,
   "metadata": {},
   "outputs": [],
   "source": [
    "concatenated = pd.concat([p1,p2], keys = ['p1','p2'])"
   ]
  },
  {
   "cell_type": "code",
   "execution_count": 115,
   "metadata": {},
   "outputs": [
    {
     "data": {
      "text/html": [
       "<div>\n",
       "<style scoped>\n",
       "    .dataframe tbody tr th:only-of-type {\n",
       "        vertical-align: middle;\n",
       "    }\n",
       "\n",
       "    .dataframe tbody tr th {\n",
       "        vertical-align: top;\n",
       "    }\n",
       "\n",
       "    .dataframe thead th {\n",
       "        text-align: right;\n",
       "    }\n",
       "</style>\n",
       "<table border=\"1\" class=\"dataframe\">\n",
       "  <thead>\n",
       "    <tr style=\"text-align: right;\">\n",
       "      <th></th>\n",
       "      <th></th>\n",
       "      <th>AREA NAME</th>\n",
       "      <th>COUNTY</th>\n",
       "    </tr>\n",
       "  </thead>\n",
       "  <tbody>\n",
       "    <tr>\n",
       "      <th rowspan=\"2\" valign=\"top\">p1</th>\n",
       "      <th>0</th>\n",
       "      <td>STATEWIDE (EXCLUDING NYC)</td>\n",
       "      <td>STATEWIDE (EXCLUDING NYC)</td>\n",
       "    </tr>\n",
       "    <tr>\n",
       "      <th>1</th>\n",
       "      <td>STATEWIDE (EXCLUDING NYC)</td>\n",
       "      <td>STATEWIDE (EXCLUDING NYC)</td>\n",
       "    </tr>\n",
       "    <tr>\n",
       "      <th rowspan=\"3\" valign=\"top\">p2</th>\n",
       "      <th>2</th>\n",
       "      <td>STATEWIDE (EXCLUDING NYC)</td>\n",
       "      <td>STATEWIDE (EXCLUDING NYC)</td>\n",
       "    </tr>\n",
       "    <tr>\n",
       "      <th>3</th>\n",
       "      <td>STATEWIDE (EXCLUDING NYC)</td>\n",
       "      <td>STATEWIDE (EXCLUDING NYC)</td>\n",
       "    </tr>\n",
       "    <tr>\n",
       "      <th>4</th>\n",
       "      <td>STATEWIDE (EXCLUDING NYC)</td>\n",
       "      <td>STATEWIDE (EXCLUDING NYC)</td>\n",
       "    </tr>\n",
       "  </tbody>\n",
       "</table>\n",
       "</div>"
      ],
      "text/plain": [
       "                      AREA NAME                     COUNTY\n",
       "p1 0  STATEWIDE (EXCLUDING NYC)  STATEWIDE (EXCLUDING NYC)\n",
       "   1  STATEWIDE (EXCLUDING NYC)  STATEWIDE (EXCLUDING NYC)\n",
       "p2 2  STATEWIDE (EXCLUDING NYC)  STATEWIDE (EXCLUDING NYC)\n",
       "   3  STATEWIDE (EXCLUDING NYC)  STATEWIDE (EXCLUDING NYC)\n",
       "   4  STATEWIDE (EXCLUDING NYC)  STATEWIDE (EXCLUDING NYC)"
      ]
     },
     "execution_count": 115,
     "metadata": {},
     "output_type": "execute_result"
    }
   ],
   "source": [
    "concatenated"
   ]
  },
  {
   "cell_type": "markdown",
   "metadata": {},
   "source": [
    "Using the keys, the pieces can be extracted back from the concatenated data:"
   ]
  },
  {
   "cell_type": "code",
   "execution_count": 116,
   "metadata": {},
   "outputs": [
    {
     "name": "stderr",
     "output_type": "stream",
     "text": [
      "/Users/piramol/anaconda3/lib/python3.7/site-packages/ipykernel_launcher.py:1: DeprecationWarning: \n",
      ".ix is deprecated. Please use\n",
      ".loc for label based indexing or\n",
      ".iloc for positional indexing\n",
      "\n",
      "See the documentation here:\n",
      "http://pandas.pydata.org/pandas-docs/stable/indexing.html#ix-indexer-is-deprecated\n",
      "  \"\"\"Entry point for launching an IPython kernel.\n"
     ]
    },
    {
     "data": {
      "text/html": [
       "<div>\n",
       "<style scoped>\n",
       "    .dataframe tbody tr th:only-of-type {\n",
       "        vertical-align: middle;\n",
       "    }\n",
       "\n",
       "    .dataframe tbody tr th {\n",
       "        vertical-align: top;\n",
       "    }\n",
       "\n",
       "    .dataframe thead th {\n",
       "        text-align: right;\n",
       "    }\n",
       "</style>\n",
       "<table border=\"1\" class=\"dataframe\">\n",
       "  <thead>\n",
       "    <tr style=\"text-align: right;\">\n",
       "      <th></th>\n",
       "      <th>AREA NAME</th>\n",
       "      <th>COUNTY</th>\n",
       "    </tr>\n",
       "  </thead>\n",
       "  <tbody>\n",
       "    <tr>\n",
       "      <th>0</th>\n",
       "      <td>STATEWIDE (EXCLUDING NYC)</td>\n",
       "      <td>STATEWIDE (EXCLUDING NYC)</td>\n",
       "    </tr>\n",
       "    <tr>\n",
       "      <th>1</th>\n",
       "      <td>STATEWIDE (EXCLUDING NYC)</td>\n",
       "      <td>STATEWIDE (EXCLUDING NYC)</td>\n",
       "    </tr>\n",
       "  </tbody>\n",
       "</table>\n",
       "</div>"
      ],
      "text/plain": [
       "                   AREA NAME                     COUNTY\n",
       "0  STATEWIDE (EXCLUDING NYC)  STATEWIDE (EXCLUDING NYC)\n",
       "1  STATEWIDE (EXCLUDING NYC)  STATEWIDE (EXCLUDING NYC)"
      ]
     },
     "execution_count": 116,
     "metadata": {},
     "output_type": "execute_result"
    }
   ],
   "source": [
    "concatenated.ix['p1']"
   ]
  },
  {
   "cell_type": "markdown",
   "metadata": {},
   "source": [
    "\n",
    "## Data operations\n",
    "Once the missing data is handled, various operations can be performed on the data."
   ]
  },
  {
   "cell_type": "markdown",
   "metadata": {},
   "source": [
    "## Aggregation operations"
   ]
  },
  {
   "cell_type": "markdown",
   "metadata": {},
   "source": [
    "There are a number of aggregation operations, such as average, sum, and so on,\n",
    "which you would like to perform on a numerical field. These are the methods\n",
    "used to perform it:"
   ]
  },
  {
   "cell_type": "markdown",
   "metadata": {},
   "source": [
    "### Average:"
   ]
  },
  {
   "cell_type": "markdown",
   "metadata": {},
   "source": [
    "To find out the average number of students in the ELEMENTARY\n",
    "school who are obese, we'll first filter the ELEMENTARY data with the\n",
    "following command:"
   ]
  },
  {
   "cell_type": "code",
   "execution_count": 118,
   "metadata": {},
   "outputs": [],
   "source": [
    "data = df[df['GRADE LEVEL'] == 'ELEMENTARY']"
   ]
  },
  {
   "cell_type": "code",
   "execution_count": 119,
   "metadata": {},
   "outputs": [
    {
     "data": {
      "text/plain": [
       "275.78676207513416"
      ]
     },
     "execution_count": 119,
     "metadata": {},
     "output_type": "execute_result"
    }
   ],
   "source": [
    "data['NO. OBESE'].mean()"
   ]
  },
  {
   "cell_type": "markdown",
   "metadata": {},
   "source": [
    "The elementary grade level data is filtered and stored in the data object. The\n",
    "NO. OBESE column is selected, which contains the number of obese students\n",
    "and using the mean() method, the average is taken out."
   ]
  },
  {
   "cell_type": "markdown",
   "metadata": {},
   "source": [
    "### Sum:"
   ]
  },
  {
   "cell_type": "markdown",
   "metadata": {},
   "source": [
    "To find out the total number of elementary students who are obese\n",
    "across all the school, use the following command:"
   ]
  },
  {
   "cell_type": "code",
   "execution_count": 120,
   "metadata": {},
   "outputs": [
    {
     "data": {
      "text/plain": [
       "770824.0"
      ]
     },
     "execution_count": 120,
     "metadata": {},
     "output_type": "execute_result"
    }
   ],
   "source": [
    "data['NO. OBESE'].sum()"
   ]
  },
  {
   "cell_type": "markdown",
   "metadata": {},
   "source": [
    "### Max:"
   ]
  },
  {
   "cell_type": "markdown",
   "metadata": {},
   "source": [
    "To get the maximum number of students that are obese in an\n",
    "elementary school, use the following command:"
   ]
  },
  {
   "cell_type": "code",
   "execution_count": 121,
   "metadata": {},
   "outputs": [
    {
     "data": {
      "text/plain": [
       "49140.0"
      ]
     },
     "execution_count": 121,
     "metadata": {},
     "output_type": "execute_result"
    }
   ],
   "source": [
    "data['NO. OBESE'].max()"
   ]
  },
  {
   "cell_type": "markdown",
   "metadata": {},
   "source": [
    "### Min:"
   ]
  },
  {
   "cell_type": "markdown",
   "metadata": {},
   "source": [
    "To get the minimum number of students that are obese in an\n",
    "elementary school, use the following command:"
   ]
  },
  {
   "cell_type": "code",
   "execution_count": 122,
   "metadata": {},
   "outputs": [
    {
     "data": {
      "text/plain": [
       "5.0"
      ]
     },
     "execution_count": 122,
     "metadata": {},
     "output_type": "execute_result"
    }
   ],
   "source": [
    "data['NO. OBESE'].min()"
   ]
  },
  {
   "cell_type": "markdown",
   "metadata": {},
   "source": [
    "### STD:"
   ]
  },
  {
   "cell_type": "markdown",
   "metadata": {},
   "source": [
    "To get the standard deviation of the number of obese students, use the\n",
    "following command:"
   ]
  },
  {
   "cell_type": "code",
   "execution_count": 124,
   "metadata": {},
   "outputs": [
    {
     "data": {
      "text/plain": [
       "2021.1248151905831"
      ]
     },
     "execution_count": 124,
     "metadata": {},
     "output_type": "execute_result"
    }
   ],
   "source": [
    "data['NO. OBESE'].std()"
   ]
  },
  {
   "cell_type": "markdown",
   "metadata": {},
   "source": [
    "### Count:"
   ]
  },
  {
   "cell_type": "markdown",
   "metadata": {},
   "source": [
    "To count the total number of schools with the ELEMENTARY grade in\n",
    "the DELAWARE county, use the following command:"
   ]
  },
  {
   "cell_type": "markdown",
   "metadata": {},
   "source": [
    "## Joins"
   ]
  },
  {
   "cell_type": "markdown",
   "metadata": {},
   "source": [
    "SQL-like joins can be performed on the DataFrame using pandas. Let's define\n",
    "a lookup DataFrame, which assigns levels to each of the grades using the\n",
    "following command:"
   ]
  },
  {
   "cell_type": "code",
   "execution_count": 126,
   "metadata": {},
   "outputs": [],
   "source": [
    "grade_lookup = {'GRADE LEVEL': pd.Series(['ELEMENTARY',\n",
    "                'MIDDLE/HIGH', 'MISC']),\n",
    "                'LEVEL': pd.Series([1, 2, 3])}"
   ]
  },
  {
   "cell_type": "code",
   "execution_count": 129,
   "metadata": {},
   "outputs": [],
   "source": [
    "import pandas as pd\n",
    "grade_lookup = pd.DataFrame(grade_lookup)"
   ]
  },
  {
   "cell_type": "markdown",
   "metadata": {},
   "source": [
    "Let's take the first five rows of the GRADE data column as an example for performing\n",
    "the joins:"
   ]
  },
  {
   "cell_type": "code",
   "execution_count": 130,
   "metadata": {},
   "outputs": [
    {
     "data": {
      "text/html": [
       "<div>\n",
       "<style scoped>\n",
       "    .dataframe tbody tr th:only-of-type {\n",
       "        vertical-align: middle;\n",
       "    }\n",
       "\n",
       "    .dataframe tbody tr th {\n",
       "        vertical-align: top;\n",
       "    }\n",
       "\n",
       "    .dataframe thead th {\n",
       "        text-align: right;\n",
       "    }\n",
       "</style>\n",
       "<table border=\"1\" class=\"dataframe\">\n",
       "  <thead>\n",
       "    <tr style=\"text-align: right;\">\n",
       "      <th></th>\n",
       "      <th>GRADE LEVEL</th>\n",
       "    </tr>\n",
       "  </thead>\n",
       "  <tbody>\n",
       "    <tr>\n",
       "      <th>0</th>\n",
       "      <td>DISTRICT TOTAL</td>\n",
       "    </tr>\n",
       "    <tr>\n",
       "      <th>1</th>\n",
       "      <td>ELEMENTARY</td>\n",
       "    </tr>\n",
       "    <tr>\n",
       "      <th>2</th>\n",
       "      <td>MIDDLE/HIGH</td>\n",
       "    </tr>\n",
       "    <tr>\n",
       "      <th>3</th>\n",
       "      <td>DISTRICT TOTAL</td>\n",
       "    </tr>\n",
       "    <tr>\n",
       "      <th>4</th>\n",
       "      <td>ELEMENTARY</td>\n",
       "    </tr>\n",
       "  </tbody>\n",
       "</table>\n",
       "</div>"
      ],
      "text/plain": [
       "      GRADE LEVEL\n",
       "0  DISTRICT TOTAL\n",
       "1      ELEMENTARY\n",
       "2     MIDDLE/HIGH\n",
       "3  DISTRICT TOTAL\n",
       "4      ELEMENTARY"
      ]
     },
     "execution_count": 130,
     "metadata": {},
     "output_type": "execute_result"
    }
   ],
   "source": [
    "df[['GRADE LEVEL']][0:5]"
   ]
  },
  {
   "cell_type": "code",
   "execution_count": null,
   "metadata": {},
   "outputs": [],
   "source": []
  }
 ],
 "metadata": {
  "kernelspec": {
   "display_name": "Python 3",
   "language": "python",
   "name": "python3"
  },
  "language_info": {
   "codemirror_mode": {
    "name": "ipython",
    "version": 3
   },
   "file_extension": ".py",
   "mimetype": "text/x-python",
   "name": "python",
   "nbconvert_exporter": "python",
   "pygments_lexer": "ipython3",
   "version": "3.7.3"
  }
 },
 "nbformat": 4,
 "nbformat_minor": 2
}
